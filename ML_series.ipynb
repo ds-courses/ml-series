{
 "cells": [
  {
   "cell_type": "markdown",
   "metadata": {},
   "source": [
    "# Table of contents:\n",
    " * [Part 1](#Introduction-to-Machine-Learning---Part-1)\n",
    " * [Part 2](#Introduction-to-Machine-Learning---Part-2)"
   ]
  },
  {
   "cell_type": "markdown",
   "metadata": {},
   "source": [
    "# Introduction to Machine Learning - Part 1"
   ]
  },
  {
   "cell_type": "code",
   "execution_count": 1,
   "metadata": {
    "slideshow": {
     "slide_type": "slide"
    }
   },
   "outputs": [],
   "source": [
    "import matplotlib.pyplot as plt\n",
    "import seaborn as sns\n",
    "import numpy as np\n",
    "import random\n",
    "import pandas as pd\n",
    "import itertools\n",
    "import importlib\n",
    "import mlintro_min as mli"
   ]
  },
  {
   "cell_type": "code",
   "execution_count": 2,
   "metadata": {
    "slideshow": {
     "slide_type": "fragment"
    }
   },
   "outputs": [],
   "source": [
    "%matplotlib inline"
   ]
  },
  {
   "cell_type": "markdown",
   "metadata": {
    "cell_style": "center",
    "slideshow": {
     "slide_type": "slide"
    }
   },
   "source": [
    "# Simple regression (OLS) model"
   ]
  },
  {
   "cell_type": "markdown",
   "metadata": {
    "slideshow": {
     "slide_type": "fragment"
    }
   },
   "source": [
    "Range of cannon angle psi to investigate"
   ]
  },
  {
   "cell_type": "code",
   "execution_count": 3,
   "metadata": {
    "slideshow": {
     "slide_type": "fragment"
    }
   },
   "outputs": [],
   "source": [
    "psi_min=20\n",
    "psi_max=60"
   ]
  },
  {
   "cell_type": "markdown",
   "metadata": {
    "slideshow": {
     "slide_type": "fragment"
    }
   },
   "source": [
    "Read pre-generated source of data"
   ]
  },
  {
   "cell_type": "code",
   "execution_count": 4,
   "metadata": {
    "slideshow": {
     "slide_type": "fragment"
    }
   },
   "outputs": [],
   "source": [
    "ref_df = pd.read_csv('datasets/offline/refdata_100K.csv')\n",
    "# Get a very small subset of inter-spread data for plotting\n",
    "ref_df_light = mli.get_ref_light(ref_df, psi_min=psi_min, psi_max=psi_max)"
   ]
  },
  {
   "cell_type": "markdown",
   "metadata": {
    "slideshow": {
     "slide_type": "subslide"
    }
   },
   "source": [
    "Generate a single dataset of 50 observations"
   ]
  },
  {
   "cell_type": "code",
   "execution_count": 5,
   "metadata": {
    "slideshow": {
     "slide_type": "fragment"
    }
   },
   "outputs": [],
   "source": [
    "np.random.seed(42)\n",
    "ds = mli.get_datasets(ref_df, n_datasets=1, sample_size=50, \n",
    "                      psi_min=psi_min, psi_max=psi_max)[0]"
   ]
  },
  {
   "cell_type": "markdown",
   "metadata": {
    "slideshow": {
     "slide_type": "subslide"
    }
   },
   "source": [
    "##### Explore dataset"
   ]
  },
  {
   "cell_type": "markdown",
   "metadata": {
    "slideshow": {
     "slide_type": "fragment"
    }
   },
   "source": [
    "We are only interested in experimental measures of angle and range, `exp_angle` and `exp_range` respectively"
   ]
  },
  {
   "cell_type": "code",
   "execution_count": 6,
   "metadata": {
    "scrolled": true,
    "slideshow": {
     "slide_type": "fragment"
    }
   },
   "outputs": [
    {
     "data": {
      "text/html": [
       "<div>\n",
       "<style scoped>\n",
       "    .dataframe tbody tr th:only-of-type {\n",
       "        vertical-align: middle;\n",
       "    }\n",
       "\n",
       "    .dataframe tbody tr th {\n",
       "        vertical-align: top;\n",
       "    }\n",
       "\n",
       "    .dataframe thead th {\n",
       "        text-align: right;\n",
       "    }\n",
       "</style>\n",
       "<table border=\"1\" class=\"dataframe\">\n",
       "  <thead>\n",
       "    <tr style=\"text-align: right;\">\n",
       "      <th></th>\n",
       "      <th>true_angle</th>\n",
       "      <th>true_range</th>\n",
       "      <th>exp_angle</th>\n",
       "      <th>exp_range</th>\n",
       "    </tr>\n",
       "  </thead>\n",
       "  <tbody>\n",
       "    <tr>\n",
       "      <th>55636</th>\n",
       "      <td>49.50156</td>\n",
       "      <td>73.748791</td>\n",
       "      <td>49.290586</td>\n",
       "      <td>76.708848</td>\n",
       "    </tr>\n",
       "    <tr>\n",
       "      <th>44400</th>\n",
       "      <td>41.52400</td>\n",
       "      <td>75.088014</td>\n",
       "      <td>42.412220</td>\n",
       "      <td>75.295328</td>\n",
       "    </tr>\n",
       "    <tr>\n",
       "      <th>65098</th>\n",
       "      <td>56.21958</td>\n",
       "      <td>68.648328</td>\n",
       "      <td>57.074914</td>\n",
       "      <td>69.804508</td>\n",
       "    </tr>\n",
       "    <tr>\n",
       "      <th>41969</th>\n",
       "      <td>39.79799</td>\n",
       "      <td>74.685302</td>\n",
       "      <td>38.595105</td>\n",
       "      <td>75.658031</td>\n",
       "    </tr>\n",
       "    <tr>\n",
       "      <th>41793</th>\n",
       "      <td>39.67303</td>\n",
       "      <td>74.646496</td>\n",
       "      <td>39.682778</td>\n",
       "      <td>74.806822</td>\n",
       "    </tr>\n",
       "    <tr>\n",
       "      <th>59123</th>\n",
       "      <td>51.97733</td>\n",
       "      <td>72.281949</td>\n",
       "      <td>52.628698</td>\n",
       "      <td>74.684523</td>\n",
       "    </tr>\n",
       "    <tr>\n",
       "      <th>46465</th>\n",
       "      <td>42.99015</td>\n",
       "      <td>75.235254</td>\n",
       "      <td>42.404804</td>\n",
       "      <td>78.694761</td>\n",
       "    </tr>\n",
       "    <tr>\n",
       "      <th>19928</th>\n",
       "      <td>24.14888</td>\n",
       "      <td>59.709266</td>\n",
       "      <td>24.658375</td>\n",
       "      <td>57.858609</td>\n",
       "    </tr>\n",
       "    <tr>\n",
       "      <th>58580</th>\n",
       "      <td>51.59180</td>\n",
       "      <td>72.542447</td>\n",
       "      <td>52.329337</td>\n",
       "      <td>72.761539</td>\n",
       "    </tr>\n",
       "    <tr>\n",
       "      <th>60167</th>\n",
       "      <td>52.71857</td>\n",
       "      <td>71.748129</td>\n",
       "      <td>53.935456</td>\n",
       "      <td>72.957270</td>\n",
       "    </tr>\n",
       "    <tr>\n",
       "      <th>30133</th>\n",
       "      <td>31.39443</td>\n",
       "      <td>69.167459</td>\n",
       "      <td>32.912192</td>\n",
       "      <td>69.428854</td>\n",
       "    </tr>\n",
       "    <tr>\n",
       "      <th>22577</th>\n",
       "      <td>26.02967</td>\n",
       "      <td>62.576189</td>\n",
       "      <td>25.775769</td>\n",
       "      <td>60.760919</td>\n",
       "    </tr>\n",
       "    <tr>\n",
       "      <th>29548</th>\n",
       "      <td>30.97908</td>\n",
       "      <td>68.741939</td>\n",
       "      <td>30.365898</td>\n",
       "      <td>70.221818</td>\n",
       "    </tr>\n",
       "    <tr>\n",
       "      <th>29949</th>\n",
       "      <td>31.26379</td>\n",
       "      <td>69.035164</td>\n",
       "      <td>29.514327</td>\n",
       "      <td>70.009436</td>\n",
       "    </tr>\n",
       "    <tr>\n",
       "      <th>31816</th>\n",
       "      <td>32.58936</td>\n",
       "      <td>70.311692</td>\n",
       "      <td>31.630315</td>\n",
       "      <td>67.935471</td>\n",
       "    </tr>\n",
       "    <tr>\n",
       "      <th>52629</th>\n",
       "      <td>47.36659</td>\n",
       "      <td>74.618063</td>\n",
       "      <td>46.952092</td>\n",
       "      <td>74.966987</td>\n",
       "    </tr>\n",
       "    <tr>\n",
       "      <th>32960</th>\n",
       "      <td>33.40160</td>\n",
       "      <td>71.021593</td>\n",
       "      <td>32.835453</td>\n",
       "      <td>73.834259</td>\n",
       "    </tr>\n",
       "    <tr>\n",
       "      <th>61234</th>\n",
       "      <td>53.47614</td>\n",
       "      <td>71.157954</td>\n",
       "      <td>52.466343</td>\n",
       "      <td>70.533402</td>\n",
       "    </tr>\n",
       "    <tr>\n",
       "      <th>58503</th>\n",
       "      <td>51.53713</td>\n",
       "      <td>72.578433</td>\n",
       "      <td>52.424419</td>\n",
       "      <td>73.275212</td>\n",
       "    </tr>\n",
       "    <tr>\n",
       "      <th>18699</th>\n",
       "      <td>23.27629</td>\n",
       "      <td>58.282658</td>\n",
       "      <td>22.225126</td>\n",
       "      <td>57.115907</td>\n",
       "    </tr>\n",
       "    <tr>\n",
       "      <th>32133</th>\n",
       "      <td>32.81443</td>\n",
       "      <td>70.513912</td>\n",
       "      <td>33.034569</td>\n",
       "      <td>71.350628</td>\n",
       "    </tr>\n",
       "    <tr>\n",
       "      <th>24793</th>\n",
       "      <td>27.60303</td>\n",
       "      <td>64.754149</td>\n",
       "      <td>27.436403</td>\n",
       "      <td>62.960507</td>\n",
       "    </tr>\n",
       "    <tr>\n",
       "      <th>15088</th>\n",
       "      <td>20.71248</td>\n",
       "      <td>53.741980</td>\n",
       "      <td>20.157355</td>\n",
       "      <td>52.660368</td>\n",
       "    </tr>\n",
       "    <tr>\n",
       "      <th>44979</th>\n",
       "      <td>41.93509</td>\n",
       "      <td>75.147326</td>\n",
       "      <td>41.818915</td>\n",
       "      <td>74.593968</td>\n",
       "    </tr>\n",
       "    <tr>\n",
       "      <th>15499</th>\n",
       "      <td>21.00429</td>\n",
       "      <td>54.284825</td>\n",
       "      <td>20.848535</td>\n",
       "      <td>53.555444</td>\n",
       "    </tr>\n",
       "    <tr>\n",
       "      <th>65801</th>\n",
       "      <td>56.71871</td>\n",
       "      <td>68.129822</td>\n",
       "      <td>56.605909</td>\n",
       "      <td>68.251995</td>\n",
       "    </tr>\n",
       "    <tr>\n",
       "      <th>55540</th>\n",
       "      <td>49.43340</td>\n",
       "      <td>73.782237</td>\n",
       "      <td>48.872826</td>\n",
       "      <td>72.590726</td>\n",
       "    </tr>\n",
       "    <tr>\n",
       "      <th>37656</th>\n",
       "      <td>36.73576</td>\n",
       "      <td>73.358339</td>\n",
       "      <td>36.539829</td>\n",
       "      <td>74.880141</td>\n",
       "    </tr>\n",
       "    <tr>\n",
       "      <th>55015</th>\n",
       "      <td>49.06065</td>\n",
       "      <td>73.958521</td>\n",
       "      <td>49.773654</td>\n",
       "      <td>76.360048</td>\n",
       "    </tr>\n",
       "    <tr>\n",
       "      <th>62433</th>\n",
       "      <td>54.32743</td>\n",
       "      <td>70.441346</td>\n",
       "      <td>55.233341</td>\n",
       "      <td>69.856939</td>\n",
       "    </tr>\n",
       "    <tr>\n",
       "      <th>66264</th>\n",
       "      <td>57.04744</td>\n",
       "      <td>67.778054</td>\n",
       "      <td>57.091815</td>\n",
       "      <td>69.136863</td>\n",
       "    </tr>\n",
       "    <tr>\n",
       "      <th>38506</th>\n",
       "      <td>37.33926</td>\n",
       "      <td>73.681918</td>\n",
       "      <td>38.066752</td>\n",
       "      <td>73.183514</td>\n",
       "    </tr>\n",
       "    <tr>\n",
       "      <th>38528</th>\n",
       "      <td>37.35488</td>\n",
       "      <td>73.689888</td>\n",
       "      <td>37.080220</td>\n",
       "      <td>77.908227</td>\n",
       "    </tr>\n",
       "    <tr>\n",
       "      <th>67500</th>\n",
       "      <td>57.92500</td>\n",
       "      <td>66.799286</td>\n",
       "      <td>58.784003</td>\n",
       "      <td>64.929712</td>\n",
       "    </tr>\n",
       "    <tr>\n",
       "      <th>65584</th>\n",
       "      <td>56.56464</td>\n",
       "      <td>68.291884</td>\n",
       "      <td>56.048000</td>\n",
       "      <td>70.301879</td>\n",
       "    </tr>\n",
       "    <tr>\n",
       "      <th>24750</th>\n",
       "      <td>27.57250</td>\n",
       "      <td>64.713809</td>\n",
       "      <td>28.542586</td>\n",
       "      <td>60.496407</td>\n",
       "    </tr>\n",
       "    <tr>\n",
       "      <th>36350</th>\n",
       "      <td>35.80850</td>\n",
       "      <td>72.801781</td>\n",
       "      <td>36.861477</td>\n",
       "      <td>71.561419</td>\n",
       "    </tr>\n",
       "    <tr>\n",
       "      <th>53594</th>\n",
       "      <td>48.05174</td>\n",
       "      <td>74.379354</td>\n",
       "      <td>47.777190</td>\n",
       "      <td>73.414904</td>\n",
       "    </tr>\n",
       "    <tr>\n",
       "      <th>19331</th>\n",
       "      <td>23.72501</td>\n",
       "      <td>59.023873</td>\n",
       "      <td>23.074468</td>\n",
       "      <td>58.690101</td>\n",
       "    </tr>\n",
       "    <tr>\n",
       "      <th>28920</th>\n",
       "      <td>30.53320</td>\n",
       "      <td>68.269214</td>\n",
       "      <td>29.596307</td>\n",
       "      <td>68.322204</td>\n",
       "    </tr>\n",
       "    <tr>\n",
       "      <th>18350</th>\n",
       "      <td>23.02850</td>\n",
       "      <td>57.866472</td>\n",
       "      <td>22.787179</td>\n",
       "      <td>63.475144</td>\n",
       "    </tr>\n",
       "    <tr>\n",
       "      <th>48993</th>\n",
       "      <td>44.78503</td>\n",
       "      <td>75.172881</td>\n",
       "      <td>46.112821</td>\n",
       "      <td>76.046597</td>\n",
       "    </tr>\n",
       "    <tr>\n",
       "      <th>14539</th>\n",
       "      <td>20.32269</td>\n",
       "      <td>53.006532</td>\n",
       "      <td>19.058818</td>\n",
       "      <td>53.633768</td>\n",
       "    </tr>\n",
       "    <tr>\n",
       "      <th>25686</th>\n",
       "      <td>28.23706</td>\n",
       "      <td>65.574637</td>\n",
       "      <td>27.523504</td>\n",
       "      <td>67.021691</td>\n",
       "    </tr>\n",
       "    <tr>\n",
       "      <th>66037</th>\n",
       "      <td>56.88627</td>\n",
       "      <td>67.951536</td>\n",
       "      <td>57.675603</td>\n",
       "      <td>68.768945</td>\n",
       "    </tr>\n",
       "    <tr>\n",
       "      <th>29089</th>\n",
       "      <td>30.65319</td>\n",
       "      <td>68.398049</td>\n",
       "      <td>30.016531</td>\n",
       "      <td>67.969052</td>\n",
       "    </tr>\n",
       "    <tr>\n",
       "      <th>55315</th>\n",
       "      <td>49.27365</td>\n",
       "      <td>73.859158</td>\n",
       "      <td>47.091098</td>\n",
       "      <td>73.895527</td>\n",
       "    </tr>\n",
       "    <tr>\n",
       "      <th>24738</th>\n",
       "      <td>27.56398</td>\n",
       "      <td>64.702538</td>\n",
       "      <td>26.886667</td>\n",
       "      <td>63.924076</td>\n",
       "    </tr>\n",
       "    <tr>\n",
       "      <th>15021</th>\n",
       "      <td>20.66491</td>\n",
       "      <td>53.652858</td>\n",
       "      <td>20.799493</td>\n",
       "      <td>50.339246</td>\n",
       "    </tr>\n",
       "    <tr>\n",
       "      <th>50076</th>\n",
       "      <td>45.55396</td>\n",
       "      <td>75.064804</td>\n",
       "      <td>45.915430</td>\n",
       "      <td>76.291035</td>\n",
       "    </tr>\n",
       "  </tbody>\n",
       "</table>\n",
       "</div>"
      ],
      "text/plain": [
       "       true_angle  true_range  exp_angle  exp_range\n",
       "55636    49.50156   73.748791  49.290586  76.708848\n",
       "44400    41.52400   75.088014  42.412220  75.295328\n",
       "65098    56.21958   68.648328  57.074914  69.804508\n",
       "41969    39.79799   74.685302  38.595105  75.658031\n",
       "41793    39.67303   74.646496  39.682778  74.806822\n",
       "59123    51.97733   72.281949  52.628698  74.684523\n",
       "46465    42.99015   75.235254  42.404804  78.694761\n",
       "19928    24.14888   59.709266  24.658375  57.858609\n",
       "58580    51.59180   72.542447  52.329337  72.761539\n",
       "60167    52.71857   71.748129  53.935456  72.957270\n",
       "30133    31.39443   69.167459  32.912192  69.428854\n",
       "22577    26.02967   62.576189  25.775769  60.760919\n",
       "29548    30.97908   68.741939  30.365898  70.221818\n",
       "29949    31.26379   69.035164  29.514327  70.009436\n",
       "31816    32.58936   70.311692  31.630315  67.935471\n",
       "52629    47.36659   74.618063  46.952092  74.966987\n",
       "32960    33.40160   71.021593  32.835453  73.834259\n",
       "61234    53.47614   71.157954  52.466343  70.533402\n",
       "58503    51.53713   72.578433  52.424419  73.275212\n",
       "18699    23.27629   58.282658  22.225126  57.115907\n",
       "32133    32.81443   70.513912  33.034569  71.350628\n",
       "24793    27.60303   64.754149  27.436403  62.960507\n",
       "15088    20.71248   53.741980  20.157355  52.660368\n",
       "44979    41.93509   75.147326  41.818915  74.593968\n",
       "15499    21.00429   54.284825  20.848535  53.555444\n",
       "65801    56.71871   68.129822  56.605909  68.251995\n",
       "55540    49.43340   73.782237  48.872826  72.590726\n",
       "37656    36.73576   73.358339  36.539829  74.880141\n",
       "55015    49.06065   73.958521  49.773654  76.360048\n",
       "62433    54.32743   70.441346  55.233341  69.856939\n",
       "66264    57.04744   67.778054  57.091815  69.136863\n",
       "38506    37.33926   73.681918  38.066752  73.183514\n",
       "38528    37.35488   73.689888  37.080220  77.908227\n",
       "67500    57.92500   66.799286  58.784003  64.929712\n",
       "65584    56.56464   68.291884  56.048000  70.301879\n",
       "24750    27.57250   64.713809  28.542586  60.496407\n",
       "36350    35.80850   72.801781  36.861477  71.561419\n",
       "53594    48.05174   74.379354  47.777190  73.414904\n",
       "19331    23.72501   59.023873  23.074468  58.690101\n",
       "28920    30.53320   68.269214  29.596307  68.322204\n",
       "18350    23.02850   57.866472  22.787179  63.475144\n",
       "48993    44.78503   75.172881  46.112821  76.046597\n",
       "14539    20.32269   53.006532  19.058818  53.633768\n",
       "25686    28.23706   65.574637  27.523504  67.021691\n",
       "66037    56.88627   67.951536  57.675603  68.768945\n",
       "29089    30.65319   68.398049  30.016531  67.969052\n",
       "55315    49.27365   73.859158  47.091098  73.895527\n",
       "24738    27.56398   64.702538  26.886667  63.924076\n",
       "15021    20.66491   53.652858  20.799493  50.339246\n",
       "50076    45.55396   75.064804  45.915430  76.291035"
      ]
     },
     "execution_count": 6,
     "metadata": {},
     "output_type": "execute_result"
    }
   ],
   "source": [
    "ds"
   ]
  },
  {
   "cell_type": "markdown",
   "metadata": {
    "slideshow": {
     "slide_type": "subslide"
    }
   },
   "source": [
    "### Exercise \n",
    "Plot the (experimentally) measured range `exp_range` as a function of the (experimentally) measured angle `exp_angle`, once with matplotlib `plt.scatter()` function, and once with seaborn `sns.scatterplot()` function.  \n",
    "\n",
    "* HINT 1: look at the functions help to know which function arguments to use\n",
    "* HINT 2: you can call these functions in two ways:\n",
    "  * either extract the columns you want to plot and give them as parameters `x` and `y`, OR\n",
    "  * just provide the column names as arguments for `x` and `y`,  and provide the dataframe name as argument to the parameter `data`. This approach is preferred.\n",
    "* HINT 3: if using the first method mentioned in HINT 2, remember you can extract a column from a dataframe either as a single column `pandas` object called a `Series` with `[ ]`, or as a `DataFrame` object with `[[ ]]`"
   ]
  },
  {
   "cell_type": "code",
   "execution_count": null,
   "metadata": {
    "slideshow": {
     "slide_type": "subslide"
    }
   },
   "outputs": [],
   "source": [
    "plt.figure(figsize=(8, 4))\n",
    "#Write plot commands here\n",
    "plt.ylim([50, 80]);"
   ]
  },
  {
   "cell_type": "markdown",
   "metadata": {
    "slideshow": {
     "slide_type": "slide"
    }
   },
   "source": [
    "## Part 1: model selection with train / test split"
   ]
  },
  {
   "cell_type": "markdown",
   "metadata": {
    "slideshow": {
     "slide_type": "fragment"
    }
   },
   "source": [
    "We will compare three models of different complexity (different number of parameters):\n",
    "   * Standard linear model (2 parameters: $\\beta_0$, $\\beta_\\psi$)\n",
    "   * Linear model with the feature squared (3 parameters: $\\beta_0$, $\\beta_\\psi$, $\\beta_{\\psi^2}$)\n",
    "   * Linear model with up to $5^{th}$ power of feature (6 parameters: $\\beta_0$, $\\beta_\\psi$, $\\beta_{\\psi^2}$, $\\beta_{\\psi^3}$, $\\beta_{\\psi^4}$, $\\beta_{\\psi^5}$)"
   ]
  },
  {
   "cell_type": "code",
   "execution_count": 8,
   "metadata": {
    "slideshow": {
     "slide_type": "subslide"
    }
   },
   "outputs": [],
   "source": [
    "from sklearn.model_selection import train_test_split"
   ]
  },
  {
   "cell_type": "markdown",
   "metadata": {
    "slideshow": {
     "slide_type": "fragment"
    }
   },
   "source": [
    "https://scikit-learn.org/stable/modules/generated/sklearn.model_selection.train_test_split.html"
   ]
  },
  {
   "cell_type": "markdown",
   "metadata": {
    "slideshow": {
     "slide_type": "subslide"
    }
   },
   "source": [
    "Let's divide our dataset into training and test set !"
   ]
  },
  {
   "cell_type": "code",
   "execution_count": 166,
   "metadata": {
    "slideshow": {
     "slide_type": "fragment"
    }
   },
   "outputs": [
    {
     "name": "stdout",
     "output_type": "stream",
     "text": [
      "Number of observations: 30 for training and 20 for testing\n"
     ]
    }
   ],
   "source": [
    "X = ds[['exp_angle']]\n",
    "y = ds[['exp_range']]\n",
    "X_train, X_test, y_train, y_test = train_test_split(X, y, test_size=0.4, random_state=42)\n",
    "print(f\"Number of observations: {len(X_train)} for training and {len(X_test)} for testing\")"
   ]
  },
  {
   "cell_type": "code",
   "execution_count": 136,
   "metadata": {
    "slideshow": {
     "slide_type": "fragment"
    }
   },
   "outputs": [
    {
     "name": "stdout",
     "output_type": "stream",
     "text": [
      "a=1, b=13, c=42\n"
     ]
    }
   ],
   "source": [
    "# We simply used tuple unpacking\n",
    "a, b, c = 1, 13, 42\n",
    "print(f'a={a}, b={b}, c={c}')"
   ]
  },
  {
   "cell_type": "code",
   "execution_count": 170,
   "metadata": {
    "ExecuteTime": {
     "end_time": "2020-06-14T20:06:42.259063Z",
     "start_time": "2020-06-14T20:06:42.249379Z"
    },
    "scrolled": true,
    "slideshow": {
     "slide_type": "subslide"
    }
   },
   "outputs": [
    {
     "data": {
      "text/html": [
       "<div>\n",
       "<style scoped>\n",
       "    .dataframe tbody tr th:only-of-type {\n",
       "        vertical-align: middle;\n",
       "    }\n",
       "\n",
       "    .dataframe tbody tr th {\n",
       "        vertical-align: top;\n",
       "    }\n",
       "\n",
       "    .dataframe thead th {\n",
       "        text-align: right;\n",
       "    }\n",
       "</style>\n",
       "<table border=\"1\" class=\"dataframe\">\n",
       "  <thead>\n",
       "    <tr style=\"text-align: right;\">\n",
       "      <th></th>\n",
       "      <th>exp_range</th>\n",
       "    </tr>\n",
       "  </thead>\n",
       "  <tbody>\n",
       "    <tr>\n",
       "      <th>29949</th>\n",
       "      <td>70.009436</td>\n",
       "    </tr>\n",
       "    <tr>\n",
       "      <th>28920</th>\n",
       "      <td>68.322204</td>\n",
       "    </tr>\n",
       "    <tr>\n",
       "      <th>66264</th>\n",
       "      <td>69.136863</td>\n",
       "    </tr>\n",
       "    <tr>\n",
       "      <th>29089</th>\n",
       "      <td>67.969052</td>\n",
       "    </tr>\n",
       "    <tr>\n",
       "      <th>61234</th>\n",
       "      <td>70.533402</td>\n",
       "    </tr>\n",
       "    <tr>\n",
       "      <th>15021</th>\n",
       "      <td>50.339246</td>\n",
       "    </tr>\n",
       "    <tr>\n",
       "      <th>55540</th>\n",
       "      <td>72.590726</td>\n",
       "    </tr>\n",
       "    <tr>\n",
       "      <th>65801</th>\n",
       "      <td>68.251995</td>\n",
       "    </tr>\n",
       "    <tr>\n",
       "      <th>38528</th>\n",
       "      <td>77.908227</td>\n",
       "    </tr>\n",
       "    <tr>\n",
       "      <th>18699</th>\n",
       "      <td>57.115907</td>\n",
       "    </tr>\n",
       "    <tr>\n",
       "      <th>29548</th>\n",
       "      <td>70.221818</td>\n",
       "    </tr>\n",
       "    <tr>\n",
       "      <th>41793</th>\n",
       "      <td>74.806822</td>\n",
       "    </tr>\n",
       "    <tr>\n",
       "      <th>53594</th>\n",
       "      <td>73.414904</td>\n",
       "    </tr>\n",
       "    <tr>\n",
       "      <th>58580</th>\n",
       "      <td>72.761539</td>\n",
       "    </tr>\n",
       "    <tr>\n",
       "      <th>41969</th>\n",
       "      <td>75.658031</td>\n",
       "    </tr>\n",
       "    <tr>\n",
       "      <th>46465</th>\n",
       "      <td>78.694761</td>\n",
       "    </tr>\n",
       "    <tr>\n",
       "      <th>48993</th>\n",
       "      <td>76.046597</td>\n",
       "    </tr>\n",
       "    <tr>\n",
       "      <th>55315</th>\n",
       "      <td>73.895527</td>\n",
       "    </tr>\n",
       "    <tr>\n",
       "      <th>24738</th>\n",
       "      <td>63.924076</td>\n",
       "    </tr>\n",
       "    <tr>\n",
       "      <th>52629</th>\n",
       "      <td>74.966987</td>\n",
       "    </tr>\n",
       "  </tbody>\n",
       "</table>\n",
       "</div>"
      ],
      "text/plain": [
       "       exp_range\n",
       "29949  70.009436\n",
       "28920  68.322204\n",
       "66264  69.136863\n",
       "29089  67.969052\n",
       "61234  70.533402\n",
       "15021  50.339246\n",
       "55540  72.590726\n",
       "65801  68.251995\n",
       "38528  77.908227\n",
       "18699  57.115907\n",
       "29548  70.221818\n",
       "41793  74.806822\n",
       "53594  73.414904\n",
       "58580  72.761539\n",
       "41969  75.658031\n",
       "46465  78.694761\n",
       "48993  76.046597\n",
       "55315  73.895527\n",
       "24738  63.924076\n",
       "52629  74.966987"
      ]
     },
     "execution_count": 170,
     "metadata": {},
     "output_type": "execute_result"
    }
   ],
   "source": [
    "y_test"
   ]
  },
  {
   "cell_type": "markdown",
   "metadata": {
    "slideshow": {
     "slide_type": "slide"
    }
   },
   "source": [
    "### Linear (OLS) model with single feature"
   ]
  },
  {
   "cell_type": "markdown",
   "metadata": {
    "slideshow": {
     "slide_type": "fragment"
    }
   },
   "source": [
    "https://scikit-learn.org/stable/modules/generated/sklearn.linear_model.LinearRegression.html"
   ]
  },
  {
   "cell_type": "markdown",
   "metadata": {
    "slideshow": {
     "slide_type": "fragment"
    }
   },
   "source": [
    "##### Let's train the model"
   ]
  },
  {
   "cell_type": "code",
   "execution_count": 171,
   "metadata": {
    "slideshow": {
     "slide_type": "fragment"
    }
   },
   "outputs": [],
   "source": [
    "from sklearn.linear_model import LinearRegression\n",
    "from sklearn.metrics import mean_squared_error, r2_score"
   ]
  },
  {
   "cell_type": "markdown",
   "metadata": {
    "slideshow": {
     "slide_type": "subslide"
    }
   },
   "source": [
    "Create new estimator object (each model is an object in `sklearn`)"
   ]
  },
  {
   "cell_type": "code",
   "execution_count": 175,
   "metadata": {
    "slideshow": {
     "slide_type": "fragment"
    }
   },
   "outputs": [],
   "source": [
    "lm = LinearRegression()"
   ]
  },
  {
   "cell_type": "code",
   "execution_count": null,
   "metadata": {
    "slideshow": {
     "slide_type": "fragment"
    }
   },
   "outputs": [],
   "source": [
    "lm."
   ]
  },
  {
   "cell_type": "code",
   "execution_count": 176,
   "metadata": {
    "slideshow": {
     "slide_type": "fragment"
    }
   },
   "outputs": [
    {
     "data": {
      "text/plain": [
       "LinearRegression()"
      ]
     },
     "execution_count": 176,
     "metadata": {},
     "output_type": "execute_result"
    }
   ],
   "source": [
    "lm.fit(X_train, y_train)"
   ]
  },
  {
   "cell_type": "code",
   "execution_count": 180,
   "metadata": {
    "slideshow": {
     "slide_type": "fragment"
    }
   },
   "outputs": [],
   "source": [
    "lm?"
   ]
  },
  {
   "cell_type": "code",
   "execution_count": 178,
   "metadata": {
    "slideshow": {
     "slide_type": "fragment"
    }
   },
   "outputs": [
    {
     "name": "stdout",
     "output_type": "stream",
     "text": [
      "beta_psi: [[0.38340895]], beta_0: [53.14568672]\n"
     ]
    }
   ],
   "source": [
    "print(f'beta_psi: {lm.coef_}, beta_0: {lm.intercept_}')"
   ]
  },
  {
   "cell_type": "markdown",
   "metadata": {
    "slideshow": {
     "slide_type": "subslide"
    }
   },
   "source": [
    "##### Predict, and compute performance scores"
   ]
  },
  {
   "cell_type": "code",
   "execution_count": 183,
   "metadata": {
    "slideshow": {
     "slide_type": "fragment"
    }
   },
   "outputs": [
    {
     "data": {
      "text/plain": [
       "array([[64.64795508],\n",
       "       [70.39908926],\n",
       "       [76.15022345]])"
      ]
     },
     "execution_count": 183,
     "metadata": {},
     "output_type": "execute_result"
    }
   ],
   "source": [
    "lm.predict([[30], [45], [60]])"
   ]
  },
  {
   "cell_type": "markdown",
   "metadata": {
    "slideshow": {
     "slide_type": "subslide"
    }
   },
   "source": [
    "The training score can provide an idea of best possible performance"
   ]
  },
  {
   "cell_type": "code",
   "execution_count": 184,
   "metadata": {
    "slideshow": {
     "slide_type": "fragment"
    }
   },
   "outputs": [
    {
     "name": "stdout",
     "output_type": "stream",
     "text": [
      "lm training performance is R2: 0.47 and MSE: 27.38\n"
     ]
    }
   ],
   "source": [
    "# We score the predictions made on the same data we trained on\n",
    "y_pred = lm.predict(X_train)\n",
    "\n",
    "R2_train = r2_score(y_train, y_pred)\n",
    "MSE_train = mean_squared_error(y_train, y_pred)\n",
    "print(f'lm training performance is R2: {R2_train:0.2f} and MSE: {MSE_train:0.2f}')"
   ]
  },
  {
   "cell_type": "markdown",
   "metadata": {
    "slideshow": {
     "slide_type": "fragment"
    }
   },
   "source": [
    "`R2` can be obtained directly from the model / estimator object as it is the default for `LinearRegression`"
   ]
  },
  {
   "cell_type": "code",
   "execution_count": 185,
   "metadata": {
    "slideshow": {
     "slide_type": "fragment"
    }
   },
   "outputs": [
    {
     "data": {
      "text/plain": [
       "0.4733701964386373"
      ]
     },
     "execution_count": 185,
     "metadata": {},
     "output_type": "execute_result"
    }
   ],
   "source": [
    "lm.score(X_train, y_train)"
   ]
  },
  {
   "cell_type": "markdown",
   "metadata": {
    "slideshow": {
     "slide_type": "subslide"
    }
   },
   "source": [
    "Let's save all our models scores to compare models later"
   ]
  },
  {
   "cell_type": "code",
   "execution_count": 186,
   "metadata": {
    "slideshow": {
     "slide_type": "fragment"
    }
   },
   "outputs": [],
   "source": [
    "train_test_results = []\n",
    "train_test_results.append({'model': 'lm', 'stage': 'train', \n",
    "                           'scorer': 'r2', 'val': R2_train})\n",
    "train_test_results.append({'model': 'lm', 'stage': 'train', \n",
    "                           'scorer': 'MSE', 'val': -MSE_train})"
   ]
  },
  {
   "cell_type": "markdown",
   "metadata": {
    "slideshow": {
     "slide_type": "subslide"
    }
   },
   "source": [
    "##### Let's test on unseen data and get testing score"
   ]
  },
  {
   "cell_type": "markdown",
   "metadata": {
    "slideshow": {
     "slide_type": "fragment"
    }
   },
   "source": [
    "See possible scores: https://scikit-learn.org/stable/modules/model_evaluation.html"
   ]
  },
  {
   "cell_type": "markdown",
   "metadata": {
    "slideshow": {
     "slide_type": "fragment"
    }
   },
   "source": [
    "The testing score can provide an idea of performance for unseen data"
   ]
  },
  {
   "cell_type": "markdown",
   "metadata": {
    "slideshow": {
     "slide_type": "subslide"
    }
   },
   "source": [
    "### Exercise\n",
    "Let's use the fitted model to see its performance on unseen data. As above, use the `lm.predict()`, `r2_score()` and `mean_squared_error()` functions, but this time to get the scores on the unseen data `X_test`. The predictions of `X_test` have to be compared with the ground truth data `y_test`.\n",
    "* HINT 1: copy the relevant code, and replace the training data with the testing data where required\n",
    "* HINT 2: you should find as performance R2: 0.26 and MSE: 33.05"
   ]
  },
  {
   "cell_type": "code",
   "execution_count": 187,
   "metadata": {
    "slideshow": {
     "slide_type": "fragment"
    }
   },
   "outputs": [
    {
     "name": "stdout",
     "output_type": "stream",
     "text": [
      "lm testing performance is R2: 0.26 and MSE: 33.05\n"
     ]
    }
   ],
   "source": [
    "# We score the predictions made on unseen data"
   ]
  },
  {
   "cell_type": "markdown",
   "metadata": {
    "slideshow": {
     "slide_type": "fragment"
    }
   },
   "source": [
    "Again let's save our scores for comparison later"
   ]
  },
  {
   "cell_type": "code",
   "execution_count": 21,
   "metadata": {
    "slideshow": {
     "slide_type": "fragment"
    }
   },
   "outputs": [],
   "source": [
    "train_test_results.append({'model': 'lm', 'stage': 'test', \n",
    "                           'scorer': 'r2', 'val': R2_test})\n",
    "train_test_results.append({'model': 'lm', 'stage': 'test', \n",
    "                           'scorer': 'MSE', 'val': -MSE_test})"
   ]
  },
  {
   "cell_type": "markdown",
   "metadata": {
    "slideshow": {
     "slide_type": "slide"
    }
   },
   "source": [
    "### Polynomial degree 2 model (polynomial use feature powers as additional features)"
   ]
  },
  {
   "cell_type": "markdown",
   "metadata": {
    "slideshow": {
     "slide_type": "fragment"
    }
   },
   "source": [
    "##### Train and get training score of degree 2 polynomial"
   ]
  },
  {
   "cell_type": "markdown",
   "metadata": {
    "slideshow": {
     "slide_type": "fragment"
    }
   },
   "source": [
    "The polynomial terms are created and then added to a standard `LinearRegression`"
   ]
  },
  {
   "cell_type": "code",
   "execution_count": 188,
   "metadata": {
    "slideshow": {
     "slide_type": "fragment"
    }
   },
   "outputs": [],
   "source": [
    "from sklearn.preprocessing import PolynomialFeatures"
   ]
  },
  {
   "cell_type": "markdown",
   "metadata": {
    "slideshow": {
     "slide_type": "fragment"
    }
   },
   "source": [
    "https://scikit-learn.org/stable/modules/generated/sklearn.preprocessing.PolynomialFeatures.html"
   ]
  },
  {
   "cell_type": "code",
   "execution_count": 193,
   "metadata": {
    "slideshow": {
     "slide_type": "fragment"
    }
   },
   "outputs": [],
   "source": [
    "poly_transformer = PolynomialFeatures(degree=2)\n",
    "lm_deg2 = LinearRegression()"
   ]
  },
  {
   "cell_type": "markdown",
   "metadata": {
    "slideshow": {
     "slide_type": "subslide"
    }
   },
   "source": [
    "A polynomial model is fitted by first transforming the features and then training a `LinearRegression` on the transformed features"
   ]
  },
  {
   "cell_type": "code",
   "execution_count": 198,
   "metadata": {
    "slideshow": {
     "slide_type": "subslide"
    }
   },
   "outputs": [],
   "source": [
    "X_train_deg2 = poly_transformer.fit_transform(X_train)"
   ]
  },
  {
   "cell_type": "code",
   "execution_count": 25,
   "metadata": {
    "cell_style": "split",
    "scrolled": true,
    "slideshow": {
     "slide_type": "fragment"
    }
   },
   "outputs": [
    {
     "data": {
      "text/html": [
       "<div>\n",
       "<style scoped>\n",
       "    .dataframe tbody tr th:only-of-type {\n",
       "        vertical-align: middle;\n",
       "    }\n",
       "\n",
       "    .dataframe tbody tr th {\n",
       "        vertical-align: top;\n",
       "    }\n",
       "\n",
       "    .dataframe thead th {\n",
       "        text-align: right;\n",
       "    }\n",
       "</style>\n",
       "<table border=\"1\" class=\"dataframe\">\n",
       "  <thead>\n",
       "    <tr style=\"text-align: right;\">\n",
       "      <th></th>\n",
       "      <th>exp_angle</th>\n",
       "    </tr>\n",
       "  </thead>\n",
       "  <tbody>\n",
       "    <tr>\n",
       "      <th>60167</th>\n",
       "      <td>53.935456</td>\n",
       "    </tr>\n",
       "    <tr>\n",
       "      <th>32960</th>\n",
       "      <td>32.835453</td>\n",
       "    </tr>\n",
       "    <tr>\n",
       "      <th>15499</th>\n",
       "      <td>20.848535</td>\n",
       "    </tr>\n",
       "    <tr>\n",
       "      <th>65584</th>\n",
       "      <td>56.048000</td>\n",
       "    </tr>\n",
       "    <tr>\n",
       "      <th>38506</th>\n",
       "      <td>38.066752</td>\n",
       "    </tr>\n",
       "    <tr>\n",
       "      <th>55636</th>\n",
       "      <td>49.290586</td>\n",
       "    </tr>\n",
       "    <tr>\n",
       "      <th>66037</th>\n",
       "      <td>57.675603</td>\n",
       "    </tr>\n",
       "    <tr>\n",
       "      <th>37656</th>\n",
       "      <td>36.539829</td>\n",
       "    </tr>\n",
       "    <tr>\n",
       "      <th>67500</th>\n",
       "      <td>58.784003</td>\n",
       "    </tr>\n",
       "    <tr>\n",
       "      <th>59123</th>\n",
       "      <td>52.628698</td>\n",
       "    </tr>\n",
       "    <tr>\n",
       "      <th>62433</th>\n",
       "      <td>55.233341</td>\n",
       "    </tr>\n",
       "    <tr>\n",
       "      <th>22577</th>\n",
       "      <td>25.775769</td>\n",
       "    </tr>\n",
       "    <tr>\n",
       "      <th>36350</th>\n",
       "      <td>36.861477</td>\n",
       "    </tr>\n",
       "    <tr>\n",
       "      <th>44400</th>\n",
       "      <td>42.412220</td>\n",
       "    </tr>\n",
       "    <tr>\n",
       "      <th>24793</th>\n",
       "      <td>27.436403</td>\n",
       "    </tr>\n",
       "    <tr>\n",
       "      <th>65098</th>\n",
       "      <td>57.074914</td>\n",
       "    </tr>\n",
       "    <tr>\n",
       "      <th>25686</th>\n",
       "      <td>27.523504</td>\n",
       "    </tr>\n",
       "    <tr>\n",
       "      <th>24750</th>\n",
       "      <td>28.542586</td>\n",
       "    </tr>\n",
       "    <tr>\n",
       "      <th>44979</th>\n",
       "      <td>41.818915</td>\n",
       "    </tr>\n",
       "    <tr>\n",
       "      <th>18350</th>\n",
       "      <td>22.787179</td>\n",
       "    </tr>\n",
       "    <tr>\n",
       "      <th>30133</th>\n",
       "      <td>32.912192</td>\n",
       "    </tr>\n",
       "    <tr>\n",
       "      <th>15088</th>\n",
       "      <td>20.157355</td>\n",
       "    </tr>\n",
       "    <tr>\n",
       "      <th>58503</th>\n",
       "      <td>52.424419</td>\n",
       "    </tr>\n",
       "    <tr>\n",
       "      <th>50076</th>\n",
       "      <td>45.915430</td>\n",
       "    </tr>\n",
       "    <tr>\n",
       "      <th>32133</th>\n",
       "      <td>33.034569</td>\n",
       "    </tr>\n",
       "    <tr>\n",
       "      <th>19928</th>\n",
       "      <td>24.658375</td>\n",
       "    </tr>\n",
       "    <tr>\n",
       "      <th>14539</th>\n",
       "      <td>19.058818</td>\n",
       "    </tr>\n",
       "    <tr>\n",
       "      <th>31816</th>\n",
       "      <td>31.630315</td>\n",
       "    </tr>\n",
       "    <tr>\n",
       "      <th>55015</th>\n",
       "      <td>49.773654</td>\n",
       "    </tr>\n",
       "    <tr>\n",
       "      <th>19331</th>\n",
       "      <td>23.074468</td>\n",
       "    </tr>\n",
       "  </tbody>\n",
       "</table>\n",
       "</div>"
      ],
      "text/plain": [
       "       exp_angle\n",
       "60167  53.935456\n",
       "32960  32.835453\n",
       "15499  20.848535\n",
       "65584  56.048000\n",
       "38506  38.066752\n",
       "55636  49.290586\n",
       "66037  57.675603\n",
       "37656  36.539829\n",
       "67500  58.784003\n",
       "59123  52.628698\n",
       "62433  55.233341\n",
       "22577  25.775769\n",
       "36350  36.861477\n",
       "44400  42.412220\n",
       "24793  27.436403\n",
       "65098  57.074914\n",
       "25686  27.523504\n",
       "24750  28.542586\n",
       "44979  41.818915\n",
       "18350  22.787179\n",
       "30133  32.912192\n",
       "15088  20.157355\n",
       "58503  52.424419\n",
       "50076  45.915430\n",
       "32133  33.034569\n",
       "19928  24.658375\n",
       "14539  19.058818\n",
       "31816  31.630315\n",
       "55015  49.773654\n",
       "19331  23.074468"
      ]
     },
     "execution_count": 25,
     "metadata": {},
     "output_type": "execute_result"
    }
   ],
   "source": [
    "X_train"
   ]
  },
  {
   "cell_type": "code",
   "execution_count": 26,
   "metadata": {
    "cell_style": "split",
    "scrolled": true,
    "slideshow": {
     "slide_type": "subslide"
    }
   },
   "outputs": [
    {
     "data": {
      "text/plain": [
       "array([[1.00000000e+00, 5.39354559e+01, 2.90903340e+03],\n",
       "       [1.00000000e+00, 3.28354531e+01, 1.07816698e+03],\n",
       "       [1.00000000e+00, 2.08485347e+01, 4.34661399e+02],\n",
       "       [1.00000000e+00, 5.60480002e+01, 3.14137832e+03],\n",
       "       [1.00000000e+00, 3.80667523e+01, 1.44907763e+03],\n",
       "       [1.00000000e+00, 4.92905859e+01, 2.42956186e+03],\n",
       "       [1.00000000e+00, 5.76756034e+01, 3.32647522e+03],\n",
       "       [1.00000000e+00, 3.65398293e+01, 1.33515913e+03],\n",
       "       [1.00000000e+00, 5.87840026e+01, 3.45555896e+03],\n",
       "       [1.00000000e+00, 5.26286977e+01, 2.76977982e+03],\n",
       "       [1.00000000e+00, 5.52333414e+01, 3.05072201e+03],\n",
       "       [1.00000000e+00, 2.57757690e+01, 6.64390269e+02],\n",
       "       [1.00000000e+00, 3.68614775e+01, 1.35876852e+03],\n",
       "       [1.00000000e+00, 4.24122201e+01, 1.79879641e+03],\n",
       "       [1.00000000e+00, 2.74364029e+01, 7.52756204e+02],\n",
       "       [1.00000000e+00, 5.70749141e+01, 3.25754582e+03],\n",
       "       [1.00000000e+00, 2.75235035e+01, 7.57543245e+02],\n",
       "       [1.00000000e+00, 2.85425860e+01, 8.14679215e+02],\n",
       "       [1.00000000e+00, 4.18189154e+01, 1.74882169e+03],\n",
       "       [1.00000000e+00, 2.27871786e+01, 5.19255509e+02],\n",
       "       [1.00000000e+00, 3.29121916e+01, 1.08321236e+03],\n",
       "       [1.00000000e+00, 2.01573548e+01, 4.06318954e+02],\n",
       "       [1.00000000e+00, 5.24244186e+01, 2.74831966e+03],\n",
       "       [1.00000000e+00, 4.59154304e+01, 2.10822675e+03],\n",
       "       [1.00000000e+00, 3.30345694e+01, 1.09128277e+03],\n",
       "       [1.00000000e+00, 2.46583749e+01, 6.08035451e+02],\n",
       "       [1.00000000e+00, 1.90588184e+01, 3.63238560e+02],\n",
       "       [1.00000000e+00, 3.16303153e+01, 1.00047685e+03],\n",
       "       [1.00000000e+00, 4.97736540e+01, 2.47741663e+03],\n",
       "       [1.00000000e+00, 2.30744680e+01, 5.32431074e+02]])"
      ]
     },
     "execution_count": 26,
     "metadata": {},
     "output_type": "execute_result"
    }
   ],
   "source": [
    "X_train_deg2"
   ]
  },
  {
   "cell_type": "code",
   "execution_count": 199,
   "metadata": {
    "slideshow": {
     "slide_type": "subslide"
    }
   },
   "outputs": [
    {
     "data": {
      "text/plain": [
       "LinearRegression()"
      ]
     },
     "execution_count": 199,
     "metadata": {},
     "output_type": "execute_result"
    }
   ],
   "source": [
    "lm_deg2.fit(X_train_deg2, y_train)"
   ]
  },
  {
   "cell_type": "code",
   "execution_count": 200,
   "metadata": {
    "slideshow": {
     "slide_type": "fragment"
    }
   },
   "outputs": [
    {
     "data": {
      "text/plain": [
       "array([[ 0.        ,  3.34282668, -0.03760496]])"
      ]
     },
     "execution_count": 200,
     "metadata": {},
     "output_type": "execute_result"
    }
   ],
   "source": [
    "lm_deg2.coef_"
   ]
  },
  {
   "cell_type": "markdown",
   "metadata": {
    "slideshow": {
     "slide_type": "subslide"
    }
   },
   "source": [
    "Let's compute training score  \n",
    "**Warning**: `LinearRegression` needs to be applied to the *transformed* (polynomial) features"
   ]
  },
  {
   "cell_type": "code",
   "execution_count": 203,
   "metadata": {
    "slideshow": {
     "slide_type": "fragment"
    }
   },
   "outputs": [
    {
     "name": "stdout",
     "output_type": "stream",
     "text": [
      "poly deg2 training performance is R2: 0.91 and MSE: 4.42\n"
     ]
    }
   ],
   "source": [
    "y_pred = lm_deg2.predict(X_train_deg2)\n",
    "\n",
    "R2_train = r2_score(y_train, y_pred)\n",
    "MSE_train = mean_squared_error(y_train, y_pred)\n",
    "print(f'poly deg2 training performance is R2: {R2_train:0.2f} and MSE: {MSE_train:0.2f}')"
   ]
  },
  {
   "cell_type": "code",
   "execution_count": 202,
   "metadata": {
    "slideshow": {
     "slide_type": "fragment"
    }
   },
   "outputs": [],
   "source": [
    "train_test_results.append({'model': 'lm_deg2', 'stage': 'train', \n",
    "                           'scorer': 'r2', 'val': R2_train})\n",
    "train_test_results.append({'model': 'lm_deg2', 'stage': 'train', \n",
    "                           'scorer': 'MSE', 'val': -MSE_train})"
   ]
  },
  {
   "cell_type": "markdown",
   "metadata": {
    "slideshow": {
     "slide_type": "subslide"
    }
   },
   "source": [
    "##### Let's test on unseen data and get testing score"
   ]
  },
  {
   "cell_type": "markdown",
   "metadata": {
    "slideshow": {
     "slide_type": "fragment"
    }
   },
   "source": [
    "Again, should not forget to transform the test data to get polynomial features"
   ]
  },
  {
   "cell_type": "code",
   "execution_count": 204,
   "metadata": {
    "slideshow": {
     "slide_type": "fragment"
    }
   },
   "outputs": [
    {
     "name": "stdout",
     "output_type": "stream",
     "text": [
      "poly deg2 testing performance is R2: 0.91 and MSE: 4.20\n"
     ]
    }
   ],
   "source": [
    "X_test_deg2 = poly_transformer.fit_transform(X_test) \n",
    "\n",
    "y_pred = lm_deg2.predict(X_test_deg2)\n",
    "\n",
    "R2_test = r2_score(y_test, y_pred)\n",
    "MSE_test = mean_squared_error(y_test, y_pred)\n",
    "print(f'poly deg2 testing performance is R2: {R2_test:0.2f} and MSE: {MSE_test:0.2f}')"
   ]
  },
  {
   "cell_type": "code",
   "execution_count": 205,
   "metadata": {
    "slideshow": {
     "slide_type": "fragment"
    }
   },
   "outputs": [],
   "source": [
    "train_test_results.append({'model': 'lm_deg2', 'stage': 'test', \n",
    "                           'scorer': 'r2', 'val': R2_test})\n",
    "train_test_results.append({'model': 'lm_deg2', 'stage': 'test', \n",
    "                           'scorer': 'MSE', 'val': -MSE_test})"
   ]
  },
  {
   "cell_type": "markdown",
   "metadata": {
    "slideshow": {
     "slide_type": "slide"
    }
   },
   "source": [
    "### Polynomial degree 5 model, introducing pipeline object"
   ]
  },
  {
   "cell_type": "markdown",
   "metadata": {
    "slideshow": {
     "slide_type": "fragment"
    }
   },
   "source": [
    "It is common to use preprocessing steps such as features transformation. To avoid repeating these processing steps (e.g. when testing the model on new data) the `Pipeline` object is very useful. It builds a workflow which can be called with a single command. "
   ]
  },
  {
   "cell_type": "markdown",
   "metadata": {
    "slideshow": {
     "slide_type": "subslide"
    }
   },
   "source": [
    "##### Train and get training score of degree 5 polynomial with *pipeline*"
   ]
  },
  {
   "cell_type": "code",
   "execution_count": 207,
   "metadata": {
    "slideshow": {
     "slide_type": "fragment"
    }
   },
   "outputs": [],
   "source": [
    "from sklearn.pipeline import Pipeline"
   ]
  },
  {
   "cell_type": "markdown",
   "metadata": {
    "slideshow": {
     "slide_type": "fragment"
    }
   },
   "source": [
    "https://scikit-learn.org/stable/modules/generated/sklearn.pipeline.Pipeline.html"
   ]
  },
  {
   "cell_type": "markdown",
   "metadata": {
    "slideshow": {
     "slide_type": "subslide"
    }
   },
   "source": [
    "The creation of the polynomial terms are embed in the `Pipeline` object which represents our new estimator (i.e. the one to use with `fit`, `predict`, etc.)"
   ]
  },
  {
   "cell_type": "code",
   "execution_count": 208,
   "metadata": {
    "slideshow": {
     "slide_type": "fragment"
    }
   },
   "outputs": [
    {
     "data": {
      "text/plain": [
       "Pipeline(steps=[('poly_transformer', PolynomialFeatures(degree=5)),\n",
       "                ('lm', LinearRegression())])"
      ]
     },
     "execution_count": 208,
     "metadata": {},
     "output_type": "execute_result"
    }
   ],
   "source": [
    "lm_deg5 = Pipeline([('poly_transformer', PolynomialFeatures(degree=5)),\n",
    "                    ('lm', LinearRegression())])"
   ]
  },
  {
   "cell_type": "markdown",
   "metadata": {
    "slideshow": {
     "slide_type": "subslide"
    }
   },
   "source": [
    "### Exercise\n",
    "Train and test your \"degree 5\"-polynomial model, and get both the training and testing scores (R2 and MSE).  \n",
    "1. Fit  your pipeline model on `X_train` and `y_train` with the `lm_deg5.fit()` method (you only need to call this method because the pipeline object will take care of calling the required `transform` and `fit` methods of all the pipeline objects)\n",
    "2. Examine your fitted linear model coefficients. Because your model is a pipeline object including `poly_transformer` and `lm`, you have to look at the specific `lm` object accessible with `lm_deg5['lm']` \n",
    "3. Compute the R2 and MSE training score by comparing predictions on `X_train` (you can name them `y_pred`) with the ground truth `y_train`, and save them in the variables `R2_train` and `MSE_train` respectively\n",
    "4. Run the cell further down below to append the training scores to the `train_test_results` variable\n",
    "5. Using the fitted model on step 1, now compute the R2 and MSE testing scores by comparing predictions on `X_test` with `y_test`, and save them in the variables `R2_test` and `MSE_test` respectively\n",
    "6. Run the cell further down below to append the test scores to the `train_test_results` variable\n",
    "\n",
    "HINT: Copy previous code and adapt it as needed"
   ]
  },
  {
   "cell_type": "code",
   "execution_count": null,
   "metadata": {},
   "outputs": [],
   "source": []
  },
  {
   "cell_type": "code",
   "execution_count": null,
   "metadata": {
    "slideshow": {
     "slide_type": "subslide"
    }
   },
   "outputs": [],
   "source": [
    "# For Step 4\n",
    "train_test_results.append({'model': 'lm_deg5', 'stage': 'train', \n",
    "                           'scorer': 'r2', 'val': R2_train})\n",
    "train_test_results.append({'model': 'lm_deg5', 'stage': 'train', \n",
    "                           'scorer': 'MSE', 'val': -MSE_train})"
   ]
  },
  {
   "cell_type": "code",
   "execution_count": null,
   "metadata": {},
   "outputs": [],
   "source": []
  },
  {
   "cell_type": "code",
   "execution_count": 213,
   "metadata": {
    "slideshow": {
     "slide_type": "subslide"
    }
   },
   "outputs": [],
   "source": [
    "# For Step 6\n",
    "train_test_results.append({'model': 'lm_deg5', 'stage': 'test', \n",
    "                           'scorer': 'r2', 'val': R2_test})\n",
    "train_test_results.append({'model': 'lm_deg5', 'stage': 'test', \n",
    "                           'scorer': 'MSE', 'val': -MSE_test})"
   ]
  },
  {
   "cell_type": "markdown",
   "metadata": {
    "slideshow": {
     "slide_type": "subslide"
    }
   },
   "source": [
    "##### Plot all the results"
   ]
  },
  {
   "cell_type": "code",
   "execution_count": 218,
   "metadata": {
    "slideshow": {
     "slide_type": "subslide"
    }
   },
   "outputs": [
    {
     "data": {
      "image/png": "[encoded data removed]",
      "text/plain": [
       "<Figure size 798.645x360 with 2 Axes>"
      ]
     },
     "metadata": {
      "needs_background": "light"
     },
     "output_type": "display_data"
    }
   ],
   "source": [
    "# The list of dictionaries is transformed into a Pandas dataframe\n",
    "train_test_results_df = pd.DataFrame(train_test_results)\n",
    "# We extract the r2 score results\n",
    "r2_results = train_test_results_df.loc[train_test_results_df['scorer'] == 'r2']\n",
    "# We extract the MSE score results\n",
    "MSE_results = train_test_results_df.loc[train_test_results_df['scorer'] == 'MSE']\n",
    "# We call the seaborn `catplot` function which can plot 4 level of informations:\n",
    "# x [model: lm, lm_deg2, ...], y [score value], colored by `hue` [training or testing score], \n",
    "# and producing separate plots for each `col` [score metric: r2 or MSE]\n",
    "with sns.plotting_context(\"notebook\", font_scale=1.2):\n",
    "    g = sns.catplot(x=\"model\", y=\"val\", hue=\"stage\", col=\"scorer\", \n",
    "                    data=train_test_results_df, kind=\"bar\", sharey=False)"
   ]
  },
  {
   "cell_type": "markdown",
   "metadata": {
    "slideshow": {
     "slide_type": "subslide"
    }
   },
   "source": [
    "For many other regression models implemented in sklearn, cf https://scikit-learn.org/stable/supervised_learning.html#supervised-learning "
   ]
  },
  {
   "cell_type": "markdown",
   "metadata": {
    "slideshow": {
     "slide_type": "slide"
    }
   },
   "source": [
    "## Part 2: Model selection with cross-validation"
   ]
  },
  {
   "cell_type": "markdown",
   "metadata": {
    "slideshow": {
     "slide_type": "fragment"
    }
   },
   "source": [
    "https://scikit-learn.org/stable/modules/cross_validation.html"
   ]
  },
  {
   "cell_type": "code",
   "execution_count": 219,
   "metadata": {
    "slideshow": {
     "slide_type": "fragment"
    }
   },
   "outputs": [],
   "source": [
    "from sklearn.model_selection import KFold"
   ]
  },
  {
   "cell_type": "code",
   "execution_count": 220,
   "metadata": {
    "slideshow": {
     "slide_type": "fragment"
    }
   },
   "outputs": [],
   "source": [
    "KFold?"
   ]
  },
  {
   "cell_type": "markdown",
   "metadata": {
    "slideshow": {
     "slide_type": "subslide"
    }
   },
   "source": [
    "Let's see what K fold is actually doing on a 10-observation dataset"
   ]
  },
  {
   "cell_type": "code",
   "execution_count": 221,
   "metadata": {
    "cell_style": "center",
    "scrolled": true,
    "slideshow": {
     "slide_type": "fragment"
    }
   },
   "outputs": [
    {
     "data": {
      "text/html": [
       "<div>\n",
       "<style scoped>\n",
       "    .dataframe tbody tr th:only-of-type {\n",
       "        vertical-align: middle;\n",
       "    }\n",
       "\n",
       "    .dataframe tbody tr th {\n",
       "        vertical-align: top;\n",
       "    }\n",
       "\n",
       "    .dataframe thead th {\n",
       "        text-align: right;\n",
       "    }\n",
       "</style>\n",
       "<table border=\"1\" class=\"dataframe\">\n",
       "  <thead>\n",
       "    <tr style=\"text-align: right;\">\n",
       "      <th></th>\n",
       "      <th>obs</th>\n",
       "    </tr>\n",
       "  </thead>\n",
       "  <tbody>\n",
       "    <tr>\n",
       "      <th>0</th>\n",
       "      <td>260</td>\n",
       "    </tr>\n",
       "    <tr>\n",
       "      <th>1</th>\n",
       "      <td>573</td>\n",
       "    </tr>\n",
       "    <tr>\n",
       "      <th>2</th>\n",
       "      <td>511</td>\n",
       "    </tr>\n",
       "    <tr>\n",
       "      <th>3</th>\n",
       "      <td>199</td>\n",
       "    </tr>\n",
       "    <tr>\n",
       "      <th>4</th>\n",
       "      <td>329</td>\n",
       "    </tr>\n",
       "    <tr>\n",
       "      <th>5</th>\n",
       "      <td>996</td>\n",
       "    </tr>\n",
       "    <tr>\n",
       "      <th>6</th>\n",
       "      <td>89</td>\n",
       "    </tr>\n",
       "    <tr>\n",
       "      <th>7</th>\n",
       "      <td>590</td>\n",
       "    </tr>\n",
       "    <tr>\n",
       "      <th>8</th>\n",
       "      <td>54</td>\n",
       "    </tr>\n",
       "    <tr>\n",
       "      <th>9</th>\n",
       "      <td>911</td>\n",
       "    </tr>\n",
       "  </tbody>\n",
       "</table>\n",
       "</div>"
      ],
      "text/plain": [
       "   obs\n",
       "0  260\n",
       "1  573\n",
       "2  511\n",
       "3  199\n",
       "4  329\n",
       "5  996\n",
       "6   89\n",
       "7  590\n",
       "8   54\n",
       "9  911"
      ]
     },
     "execution_count": 221,
     "metadata": {},
     "output_type": "execute_result"
    }
   ],
   "source": [
    "X_example = pd.DataFrame({'obs': \n",
    "                          np.random.randint(0, 1000, 10)})\n",
    "X_example"
   ]
  },
  {
   "cell_type": "code",
   "execution_count": 222,
   "metadata": {
    "cell_style": "split",
    "slideshow": {
     "slide_type": "subslide"
    }
   },
   "outputs": [
    {
     "name": "stdout",
     "output_type": "stream",
     "text": [
      "train ix: [2 3 4 5 6 7 8 9] testix: [0 1]\n",
      "train ix: [0 1 4 5 6 7 8 9] testix: [2 3]\n",
      "train ix: [0 1 2 3 6 7 8 9] testix: [4 5]\n",
      "train ix: [0 1 2 3 4 5 8 9] testix: [6 7]\n",
      "train ix: [0 1 2 3 4 5 6 7] testix: [8 9]\n"
     ]
    }
   ],
   "source": [
    "kf = KFold(n_splits=5)\n",
    "for (ix_train, ix_test) in kf.split(X_example):\n",
    "    print(\"train ix:\", ix_train, \"testix:\", ix_test)"
   ]
  },
  {
   "cell_type": "code",
   "execution_count": 223,
   "metadata": {
    "cell_style": "split",
    "slideshow": {
     "slide_type": "subslide"
    }
   },
   "outputs": [
    {
     "name": "stdout",
     "output_type": "stream",
     "text": [
      "train ix: [0 2 3 4 5 6 7 9] test ix: [1 8]\n",
      "train ix: [1 2 3 4 6 7 8 9] test ix: [0 5]\n",
      "train ix: [0 1 3 4 5 6 8 9] test ix: [2 7]\n",
      "train ix: [0 1 2 3 5 6 7 8] test ix: [4 9]\n",
      "train ix: [0 1 2 4 5 7 8 9] test ix: [3 6]\n"
     ]
    }
   ],
   "source": [
    "kfs = KFold(n_splits=5, shuffle=True, random_state=42)\n",
    "for (ix_train, ix_test) in kfs.split(X_example):\n",
    "    print(\"train ix:\", ix_train, \"test ix:\", ix_test)"
   ]
  },
  {
   "cell_type": "code",
   "execution_count": 224,
   "metadata": {
    "slideshow": {
     "slide_type": "fragment"
    }
   },
   "outputs": [
    {
     "name": "stdout",
     "output_type": "stream",
     "text": [
      "Size X: 50, with X train: 30 and X test: 20\n"
     ]
    }
   ],
   "source": [
    "kf = KFold(n_splits=5, shuffle=True, random_state=42)\n",
    "print(f\"Size X: {len(X)}, with X train: {len(X_train)} and X test: {len(X_test)}\")"
   ]
  },
  {
   "cell_type": "code",
   "execution_count": 225,
   "metadata": {
    "slideshow": {
     "slide_type": "subslide"
    }
   },
   "outputs": [],
   "source": [
    "ml_models = {'lm': LinearRegression(),\n",
    "             'lm_deg2': Pipeline([('poly_transformer', PolynomialFeatures(degree=2)),\n",
    "                                  ('lm', LinearRegression())]),\n",
    "             'lm_deg5': Pipeline([('poly_transformer', PolynomialFeatures(degree=5)),\n",
    "                                  ('lm', LinearRegression())])}"
   ]
  },
  {
   "cell_type": "code",
   "execution_count": 226,
   "metadata": {
    "slideshow": {
     "slide_type": "fragment"
    }
   },
   "outputs": [],
   "source": [
    "#from sklearn.model_selection import StratifiedKFold"
   ]
  },
  {
   "cell_type": "code",
   "execution_count": 229,
   "metadata": {
    "slideshow": {
     "slide_type": "subslide"
    }
   },
   "outputs": [],
   "source": [
    "kf_results = []\n",
    "\n",
    "kfs = KFold(n_splits=10, shuffle=True, random_state=42)\n",
    "for i_f, (ix_train, ix_test) in enumerate(kfs.split(X_train)):\n",
    "    # Loop over models\n",
    "    for mod_name, mod in ml_models.items():\n",
    "        # Define training and testing folds\n",
    "        X_training_folds = X_train.iloc[ix_train]\n",
    "        y_training_folds = y_train.iloc[ix_train]\n",
    "        X_test_fold = X_train.iloc[ix_test]\n",
    "        y_test_fold = y_train.iloc[ix_test]\n",
    "        # Fit the model on the training folds\n",
    "        mod.fit(X_training_folds, y_training_folds)\n",
    "        # Test on both the training and testing folds to check for over-/under-fitting\n",
    "        y_pred_train = mod.predict(X_training_folds)\n",
    "        y_pred_test = mod.predict(X_test_fold)\n",
    "        # R2\n",
    "        kf_results.append({'model': mod_name, 'fold': i_f, 'stage': 'train', 'scorer': 'r2', \n",
    "                           'val': r2_score(y_training_folds, y_pred_train)})\n",
    "        kf_results.append({'model': mod_name, 'fold': i_f, 'stage': 'test', 'scorer': 'r2', \n",
    "                           'val': r2_score(y_test_fold, y_pred_test)})\n",
    "        # MSE\n",
    "        kf_results.append({'model': mod_name, 'fold': i_f, 'stage': 'train', 'scorer': 'MSE', \n",
    "                           'val': -mean_squared_error(y_training_folds, y_pred_train)})\n",
    "        kf_results.append({'model': mod_name, 'fold': i_f, 'stage': 'test', 'scorer': 'MSE', \n",
    "                           'val': -mean_squared_error(y_test_fold, y_pred_test)})\n",
    "kf_results_df = pd.DataFrame(kf_results)"
   ]
  },
  {
   "cell_type": "code",
   "execution_count": 230,
   "metadata": {
    "slideshow": {
     "slide_type": "subslide"
    }
   },
   "outputs": [
    {
     "data": {
      "image/png": "[encoded data removed]",
      "text/plain": [
       "<Figure size 726.645x216 with 2 Axes>"
      ]
     },
     "metadata": {
      "needs_background": "light"
     },
     "output_type": "display_data"
    },
    {
     "data": {
      "image/png": "[encoded data removed]",
      "text/plain": [
       "<Figure size 726.645x216 with 2 Axes>"
      ]
     },
     "metadata": {
      "needs_background": "light"
     },
     "output_type": "display_data"
    },
    {
     "data": {
      "image/png": "[encoded data removed]",
      "text/plain": [
       "<Figure size 726.645x216 with 2 Axes>"
      ]
     },
     "metadata": {
      "needs_background": "light"
     },
     "output_type": "display_data"
    }
   ],
   "source": [
    "for mod_name in ml_models.keys():\n",
    "    kf_df = kf_results_df.loc[kf_results_df['model'] == mod_name]\n",
    "    with sns.plotting_context(\"notebook\", font_scale=1.2):\n",
    "        g = sns.catplot(x=\"fold\", y=\"val\", hue=\"stage\", col=\"scorer\", data=kf_df, \n",
    "                        kind=\"bar\", sharey=False, height=3, aspect=1.5)\n",
    "        g.axes[0,0].set_ylim(-0.2,1)\n",
    "        #g.axes[0,1].set_ylim(0, 45)\n",
    "        g.fig.suptitle(mod_name, y=1.05)"
   ]
  },
  {
   "cell_type": "code",
   "execution_count": 231,
   "metadata": {
    "code_folding": [
     0
    ],
    "slideshow": {
     "slide_type": "subslide"
    }
   },
   "outputs": [
    {
     "data": {
      "image/png": "[encoded data removed]",
      "text/plain": [
       "<Figure size 726.645x216 with 2 Axes>"
      ]
     },
     "metadata": {
      "needs_background": "light"
     },
     "output_type": "display_data"
    },
    {
     "data": {
      "image/png": "[encoded data removed]",
      "text/plain": [
       "<Figure size 726.645x216 with 2 Axes>"
      ]
     },
     "metadata": {
      "needs_background": "light"
     },
     "output_type": "display_data"
    }
   ],
   "source": [
    "with sns.plotting_context(\"notebook\", font_scale=1.2):\n",
    "    g = sns.catplot(x=\"model\", y=\"val\", hue=\"stage\", col=\"scorer\", data=kf_results_df, \n",
    "                    kind=\"box\", sharey=False, height=3, aspect=1.5)\n",
    "    g.axes[0, 0].set_ylim(-0.2, 1)\n",
    "    g.axes[0, 1].set_ylim(-50, 0)\n",
    "    g.fig.suptitle(\"Score accross fold across models\", y=1.05)\n",
    "    g = sns.catplot(x=\"model\", y=\"val\", hue=\"stage\", col=\"scorer\", data=kf_results_df, \n",
    "                    kind=\"box\", sharey=False, height=3, aspect=1.5)\n",
    "    g.axes[0, 0].set_ylim(0.45, 1)\n",
    "    g.axes[0, 1].set_ylim(-18, 0)\n",
    "    g.fig.suptitle(\"Close up on polynomial models\", y=1.05)"
   ]
  },
  {
   "cell_type": "markdown",
   "metadata": {
    "slideshow": {
     "slide_type": "slide"
    }
   },
   "source": [
    "#### `sklearn` helps to automate common operations "
   ]
  },
  {
   "cell_type": "code",
   "execution_count": 232,
   "metadata": {
    "scrolled": true,
    "slideshow": {
     "slide_type": "fragment"
    }
   },
   "outputs": [],
   "source": [
    "from sklearn.model_selection import cross_val_score"
   ]
  },
  {
   "cell_type": "code",
   "execution_count": 236,
   "metadata": {
    "slideshow": {
     "slide_type": "fragment"
    }
   },
   "outputs": [],
   "source": [
    "cross_val_score?"
   ]
  },
  {
   "cell_type": "code",
   "execution_count": 237,
   "metadata": {
    "slideshow": {
     "slide_type": "fragment"
    }
   },
   "outputs": [],
   "source": [
    "from sklearn.metrics import fbeta_score, make_scorer\n",
    "mse_scorer = make_scorer(mean_squared_error, greater_is_better=False)"
   ]
  },
  {
   "cell_type": "code",
   "execution_count": 238,
   "metadata": {
    "slideshow": {
     "slide_type": "subslide"
    }
   },
   "outputs": [],
   "source": [
    "ml_models = {'lm': LinearRegression(),\n",
    "             'lm_deg2': Pipeline([('poly_transformer', PolynomialFeatures(degree=2)),\n",
    "                                  ('lm', LinearRegression())]),\n",
    "             'lm_deg5': Pipeline([('poly_transformer', PolynomialFeatures(degree=5)),\n",
    "                                  ('lm', LinearRegression())])}\n",
    "# Get cv train AND test scores\n",
    "cv_test_scores = {}\n",
    "for mod_name in ml_models.keys():\n",
    "    cv_test_scores[mod_name] = cross_val_score(ml_models[mod_name], X_train, y_train, \n",
    "                                               cv=kfs, scoring=mse_scorer, n_jobs=-1)\n",
    "cv_test_scores_df = pd.DataFrame(cv_test_scores)"
   ]
  },
  {
   "cell_type": "code",
   "execution_count": 239,
   "metadata": {
    "scrolled": true,
    "slideshow": {
     "slide_type": "subslide"
    }
   },
   "outputs": [
    {
     "data": {
      "image/png": "[encoded data removed]",
      "text/plain": [
       "<Figure size 432x288 with 1 Axes>"
      ]
     },
     "metadata": {
      "needs_background": "light"
     },
     "output_type": "display_data"
    }
   ],
   "source": [
    "cv_test_scores_df.boxplot()\n",
    "plt.title('Negative MSE for the three models tested (larger is better)');"
   ]
  },
  {
   "cell_type": "markdown",
   "metadata": {
    "slideshow": {
     "slide_type": "subslide"
    }
   },
   "source": [
    "##### Want even more with even less code?"
   ]
  },
  {
   "cell_type": "code",
   "execution_count": 240,
   "metadata": {
    "slideshow": {
     "slide_type": "fragment"
    }
   },
   "outputs": [],
   "source": [
    "from sklearn.model_selection import cross_validate"
   ]
  },
  {
   "cell_type": "markdown",
   "metadata": {
    "slideshow": {
     "slide_type": "fragment"
    }
   },
   "source": [
    "`cross_validate` returns train *and* test scores on *several* metrics"
   ]
  },
  {
   "cell_type": "code",
   "execution_count": 241,
   "metadata": {
    "slideshow": {
     "slide_type": "fragment"
    }
   },
   "outputs": [],
   "source": [
    "cross_validate?"
   ]
  },
  {
   "cell_type": "code",
   "execution_count": 243,
   "metadata": {
    "slideshow": {
     "slide_type": "subslide"
    }
   },
   "outputs": [],
   "source": [
    "ml_models = {'lm': LinearRegression(),\n",
    "             'lm_deg2': Pipeline([('poly_transformer', PolynomialFeatures(degree=2)),\n",
    "                                  ('lm', LinearRegression())]),\n",
    "             'lm_deg5': Pipeline([('poly_transformer', PolynomialFeatures(degree=5)),\n",
    "                                  ('lm', LinearRegression())])}\n",
    "# Get cv train AND test scores\n",
    "cv_scores = {}\n",
    "for mod_name in ml_models.keys():\n",
    "    cv_scores[mod_name] = cross_validate(ml_models[mod_name], X_train, y_train, cv=kfs, \n",
    "                                         scoring=['r2', 'neg_mean_squared_error'], \n",
    "                                         return_train_score=True, n_jobs=-1)"
   ]
  },
  {
   "cell_type": "code",
   "execution_count": 244,
   "metadata": {
    "code_folding": [
     0
    ],
    "slideshow": {
     "slide_type": "skip"
    }
   },
   "outputs": [],
   "source": [
    "def crossval_to_df(cv_dict):\n",
    "    crossval_results = []\n",
    "    for model in cv_dict.keys():\n",
    "        for scorer in cv_dict[model].keys():\n",
    "            if scorer.startswith('train_'):\n",
    "                score = scorer.replace('train_', '')\n",
    "                for i_val, val in enumerate(cv_dict[model][scorer]):\n",
    "                    crossval_results.append({'model': model, 'fold': i_val, 'stage': 'train', \n",
    "                                             'scorer': score, 'val': val})\n",
    "            elif scorer.startswith('test_'):\n",
    "                score = scorer.replace('test_', '')\n",
    "                for i_val, val in enumerate(cv_dict[model][scorer]):\n",
    "                    crossval_results.append({'model': model, 'fold': i_val, 'stage': 'test', \n",
    "                                             'scorer': score, 'val': val})\n",
    "    return pd.DataFrame(crossval_results)"
   ]
  },
  {
   "cell_type": "code",
   "execution_count": 245,
   "metadata": {
    "code_folding": [
     1
    ],
    "slideshow": {
     "slide_type": "subslide"
    }
   },
   "outputs": [
    {
     "data": {
      "image/png": "[encoded data removed]",
      "text/plain": [
       "<Figure size 726.645x216 with 2 Axes>"
      ]
     },
     "metadata": {
      "needs_background": "light"
     },
     "output_type": "display_data"
    },
    {
     "data": {
      "image/png": "[encoded data removed]",
      "text/plain": [
       "<Figure size 726.645x216 with 2 Axes>"
      ]
     },
     "metadata": {
      "needs_background": "light"
     },
     "output_type": "display_data"
    },
    {
     "data": {
      "image/png": "[encoded data removed]",
      "text/plain": [
       "<Figure size 726.645x216 with 2 Axes>"
      ]
     },
     "metadata": {
      "needs_background": "light"
     },
     "output_type": "display_data"
    }
   ],
   "source": [
    "crossval_df = crossval_to_df(cv_scores)\n",
    "for mod_name in crossval_df['model'].unique():\n",
    "    kf_df = crossval_df.loc[crossval_df['model'] == mod_name]\n",
    "    with sns.plotting_context(\"notebook\", font_scale=1.2):\n",
    "        g = sns.catplot(x=\"fold\", y=\"val\", hue=\"stage\", col=\"scorer\", data=crossval_df,\n",
    "                        kind=\"bar\", sharey=False, height=3, aspect=1.5, ci=None)\n",
    "        g.axes[0,0].set_ylim(-0.2,1)\n",
    "        g.axes[0,1].set_ylim(-45, 0)\n",
    "        g.fig.suptitle(mod_name, y=1.05)"
   ]
  },
  {
   "cell_type": "markdown",
   "metadata": {},
   "source": [
    "# Introduction to Machine Learning - Part 2"
   ]
  },
  {
   "cell_type": "code",
   "execution_count": 1,
   "metadata": {
    "ExecuteTime": {
     "end_time": "2020-12-01T20:56:12.498850Z",
     "start_time": "2020-12-01T20:56:12.237968Z"
    }
   },
   "outputs": [],
   "source": [
    "import os\n",
    "import numpy as np\n",
    "import pandas as pd\n",
    "import datetime as dt\n",
    "import sklearn\n",
    "from scipy import stats\n",
    "from sklearn import preprocessing\n",
    "import matplotlib.pyplot as plt\n",
    "import seaborn as sns"
   ]
  },
  {
   "cell_type": "code",
   "execution_count": 2,
   "metadata": {
    "ExecuteTime": {
     "end_time": "2020-12-01T20:56:12.503327Z",
     "start_time": "2020-12-01T20:56:12.500336Z"
    }
   },
   "outputs": [],
   "source": [
    "%matplotlib inline"
   ]
  },
  {
   "cell_type": "markdown",
   "metadata": {},
   "source": [
    "## Classification: data preprocessing example"
   ]
  },
  {
   "cell_type": "markdown",
   "metadata": {},
   "source": [
    "### Step 1 : look at the data"
   ]
  },
  {
   "cell_type": "code",
   "execution_count": null,
   "metadata": {},
   "outputs": [],
   "source": [
    "stroke_df = pd.read_csv('stroke_dataset.csv')\n",
    "stroke_df"
   ]
  },
  {
   "cell_type": "markdown",
   "metadata": {},
   "source": [
    "#### Continuous values"
   ]
  },
  {
   "cell_type": "code",
   "execution_count": null,
   "metadata": {},
   "outputs": [],
   "source": [
    "stroke_df.describe()"
   ]
  },
  {
   "cell_type": "markdown",
   "metadata": {},
   "source": [
    "#### Categorical values"
   ]
  },
  {
   "cell_type": "code",
   "execution_count": 5,
   "metadata": {},
   "outputs": [
    {
     "data": {
      "text/plain": [
       "0    3924\n",
       "1     498\n",
       "Name: hypertension, dtype: int64"
      ]
     },
     "execution_count": 5,
     "metadata": {},
     "output_type": "execute_result"
    }
   ],
   "source": [
    "stroke_df[\"hypertension\"].value_counts()"
   ]
  },
  {
   "cell_type": "code",
   "execution_count": null,
   "metadata": {},
   "outputs": [],
   "source": [
    "cat_columns = [\"hypertension\", \"heart_disease\", \"ever_married\", \"work_type\",\n",
    "               \"Residence_type\", \"stroke\", \"smoking_status\"]\n",
    "for cat in cat_columns:\n",
    "    print(f\"=== Category {cat}\")\n",
    "    print(stroke_df[cat].value_counts())"
   ]
  },
  {
   "cell_type": "markdown",
   "metadata": {},
   "source": [
    "#### Missing values"
   ]
  },
  {
   "cell_type": "code",
   "execution_count": null,
   "metadata": {},
   "outputs": [],
   "source": [
    "stroke_df.isna().sum()"
   ]
  },
  {
   "cell_type": "markdown",
   "metadata": {},
   "source": [
    "### Step 2: clean the data"
   ]
  },
  {
   "cell_type": "markdown",
   "metadata": {},
   "source": [
    "#### Data imputation 1: replace missing categorical data "
   ]
  },
  {
   "cell_type": "code",
   "execution_count": null,
   "metadata": {},
   "outputs": [],
   "source": [
    "stroke_df[\"smoking_status\"].value_counts()"
   ]
  },
  {
   "cell_type": "code",
   "execution_count": 9,
   "metadata": {},
   "outputs": [
    {
     "data": {
      "text/plain": [
       "'never smoked'"
      ]
     },
     "execution_count": 9,
     "metadata": {},
     "output_type": "execute_result"
    }
   ],
   "source": [
    "# We take the labels of the rows (.index), and select the first value (i.e. 0 in Python)\n",
    "most_frequent_smoking_status = stroke_df[\"smoking_status\"].value_counts().index[0]\n",
    "most_frequent_smoking_status"
   ]
  },
  {
   "cell_type": "code",
   "execution_count": 10,
   "metadata": {},
   "outputs": [],
   "source": [
    "stroke_cleanstep1_df = stroke_df.copy()"
   ]
  },
  {
   "cell_type": "code",
   "execution_count": 11,
   "metadata": {},
   "outputs": [],
   "source": [
    "unknown_smoking_mask = stroke_cleanstep1_df[\"smoking_status\"]==\"Unknown\"\n",
    "stroke_cleanstep1_df.loc[unknown_smoking_mask, \"smoking_status\"] = most_frequent_smoking_status"
   ]
  },
  {
   "cell_type": "code",
   "execution_count": 12,
   "metadata": {},
   "outputs": [
    {
     "data": {
      "text/plain": [
       "never smoked       2764\n",
       "formerly smoked     871\n",
       "smokes              787\n",
       "Name: smoking_status, dtype: int64"
      ]
     },
     "execution_count": 12,
     "metadata": {},
     "output_type": "execute_result"
    }
   ],
   "source": [
    "stroke_cleanstep1_df[\"smoking_status\"].value_counts()"
   ]
  },
  {
   "cell_type": "markdown",
   "metadata": {},
   "source": [
    "#### Data imputation 2: replace missing continuous data "
   ]
  },
  {
   "cell_type": "markdown",
   "metadata": {},
   "source": [
    "### Exercise \n",
    "Replace the missing bmi index with what you think could be an adequate replacement. Check that there are no longer any missing values. \n",
    "\n",
    "*TIP1*: copy `stroke_cleanstep1_df` as `stroke_cleanstep2_df`\n",
    "\n",
    "*TIP2*: create a mask by calling the `.isna` method on the appropriate dateframe column\n",
    "\n",
    "*TIP3*: relying on the previous mask and the appropriate column name, replace all nan values with the mean or media (using the `.mean` or `.median` method applied to the appropriate column\n",
    "\n",
    "*TIP4*: to check there are no longer any missing values, use `isna` and `sum` functions chain one after the other"
   ]
  },
  {
   "cell_type": "code",
   "execution_count": null,
   "metadata": {},
   "outputs": [],
   "source": []
  },
  {
   "cell_type": "code",
   "execution_count": null,
   "metadata": {},
   "outputs": [],
   "source": []
  },
  {
   "cell_type": "code",
   "execution_count": null,
   "metadata": {},
   "outputs": [],
   "source": []
  },
  {
   "cell_type": "code",
   "execution_count": null,
   "metadata": {},
   "outputs": [],
   "source": []
  },
  {
   "cell_type": "markdown",
   "metadata": {},
   "source": [
    "### Step 3: transform the data to expected numerical feature matrix X and label array y"
   ]
  },
  {
   "cell_type": "markdown",
   "metadata": {},
   "source": [
    "#### Extract the label array"
   ]
  },
  {
   "cell_type": "markdown",
   "metadata": {},
   "source": [
    "Note use `sklearn` [`LabelEncoder`](https://scikit-learn.org/stable/modules/generated/sklearn.preprocessing.LabelEncoder.html#sklearn.preprocessing.LabelEncoder) if the label is not yet in numerical form"
   ]
  },
  {
   "cell_type": "code",
   "execution_count": 25,
   "metadata": {},
   "outputs": [],
   "source": [
    "#from sklearn import preprocessing\n",
    "#label_to_num = preprocessing.LabelEncoder()\n",
    "#y = label_to_num.fit_transform(y_label)"
   ]
  },
  {
   "cell_type": "code",
   "execution_count": 26,
   "metadata": {},
   "outputs": [],
   "source": [
    "y = stroke_cleanstep2_df[\"stroke\"]"
   ]
  },
  {
   "cell_type": "markdown",
   "metadata": {},
   "source": [
    "#### Drop unnecessary columns"
   ]
  },
  {
   "cell_type": "code",
   "execution_count": null,
   "metadata": {},
   "outputs": [],
   "source": [
    "# The drop applies to columns (hence axis=1)\n",
    "X = stroke_cleanstep2_df.drop([\"id\", \"stroke\"], axis=1)\n",
    "X"
   ]
  },
  {
   "cell_type": "markdown",
   "metadata": {},
   "source": [
    "#### Apply required transforms\n",
    "* Ordered categories (i.e. ordinal) are transformed into sequential numbers\n",
    "* Non ordered categorical data are converted into dummy variables (one hot encoding)\n",
    "* Continuous variables are scaled (centered on their mean and scaled to unit variance)"
   ]
  },
  {
   "cell_type": "code",
   "execution_count": 28,
   "metadata": {},
   "outputs": [],
   "source": [
    "from sklearn.preprocessing import OrdinalEncoder, OneHotEncoder, StandardScaler"
   ]
  },
  {
   "cell_type": "code",
   "execution_count": 29,
   "metadata": {},
   "outputs": [],
   "source": [
    "from sklearn.compose import make_column_transformer"
   ]
  },
  {
   "cell_type": "code",
   "execution_count": 36,
   "metadata": {},
   "outputs": [],
   "source": [
    "# This is only required if not using the latest version of sklearn\n",
    "#OrdinalEncoder.get_feature_names_out = (lambda self, names=None:\n",
    "#                                       self.feature_names_in_)"
   ]
  },
  {
   "cell_type": "code",
   "execution_count": 30,
   "metadata": {},
   "outputs": [],
   "source": [
    "cols_ordinal = [\"smoking_status\"]\n",
    "cols_non_ordinal = [\"gender\", \"ever_married\", \"work_type\", \"Residence_type\"]\n",
    "cols_continuous = [\"age\", \"avg_glucose_level\", \"bmi\"]\n",
    "preprocessor = make_column_transformer(\n",
    "    (OrdinalEncoder(categories=[['never smoked', 'formerly smoked', 'smokes']]), cols_ordinal),\n",
    "    (OneHotEncoder(drop='if_binary', sparse=False), cols_non_ordinal),\n",
    "    (StandardScaler(), cols_continuous),\n",
    "    remainder='passthrough',\n",
    "    verbose_feature_names_out=False\n",
    ")"
   ]
  },
  {
   "cell_type": "code",
   "execution_count": null,
   "metadata": {},
   "outputs": [],
   "source": [
    "X"
   ]
  },
  {
   "cell_type": "code",
   "execution_count": null,
   "metadata": {},
   "outputs": [],
   "source": [
    "X_final = pd.DataFrame(data=preprocessor.fit_transform(X),\n",
    "                       columns=preprocessor.get_feature_names_out())\n",
    "X_final"
   ]
  },
  {
   "cell_type": "markdown",
   "metadata": {},
   "source": [
    "## Classification: model training and testing example"
   ]
  },
  {
   "cell_type": "markdown",
   "metadata": {},
   "source": [
    "### Consider wine dataset to predict a good/bad quality label according to various features"
   ]
  },
  {
   "cell_type": "code",
   "execution_count": null,
   "metadata": {},
   "outputs": [],
   "source": [
    "wine_df = pd.read_csv('wine.csv')\n",
    "wine_df"
   ]
  },
  {
   "cell_type": "markdown",
   "metadata": {},
   "source": [
    "#### Extract labels as vector y_label"
   ]
  },
  {
   "cell_type": "code",
   "execution_count": null,
   "metadata": {
    "scrolled": true
   },
   "outputs": [],
   "source": [
    "y_label = wine_df[\"quality\"]\n",
    "y_label"
   ]
  },
  {
   "cell_type": "markdown",
   "metadata": {},
   "source": [
    "#### Extract the features as matrix X"
   ]
  },
  {
   "cell_type": "code",
   "execution_count": null,
   "metadata": {
    "scrolled": false
   },
   "outputs": [],
   "source": [
    "X = wine_df.drop(\"quality\", axis=1)\n",
    "X"
   ]
  },
  {
   "cell_type": "markdown",
   "metadata": {},
   "source": [
    "### Implement basic machine learning workflow with a linear model"
   ]
  },
  {
   "cell_type": "markdown",
   "metadata": {},
   "source": [
    "### Exercise \n",
    "1. Convert the string categorical label `y_label` (`good`, `bad`) into numeric data\n",
    "\n",
    "*TIP*: use the `fit_transform` method of an instance `label_encoder` of the class `LabelEncoder` applied to `y_label`\n",
    "\n",
    "2. Split the data into a training (70% of data) and testing (30% data) sets (`X_train, X_test, y_train, y_test`), using stratification\n",
    "\n",
    "*TIP*: use the `train_test_split` function applied to `X` and `y`\n",
    "    \n",
    "3. Fit a logistic regression model on the training data to estimate the model parameters\n",
    "\n",
    "*TIP*: use the `fit` method of an instance `lr` of the class `LogisticRegression` called with no `penalty` terms and balanced `class_weight`\n",
    "\n",
    "4. Predict the labels and compare the predictions with the ground truth to obtain the performance as a confusion matrix\n",
    "\n",
    "*TIP*: use the `predict` method of your instance of `LogisticRegression` and use the `confusion_matrix` function to compare your results `y_pred_train` with the ground truth `y_train`\n",
    "\n"
   ]
  },
  {
   "cell_type": "code",
   "execution_count": null,
   "metadata": {},
   "outputs": [],
   "source": []
  },
  {
   "cell_type": "markdown",
   "metadata": {},
   "source": [
    "#### 1. Convert `string` label (`good`, `bad`) into numeric data"
   ]
  },
  {
   "cell_type": "code",
   "execution_count": 220,
   "metadata": {},
   "outputs": [],
   "source": [
    "from sklearn.preprocessing import LabelEncoder"
   ]
  },
  {
   "cell_type": "code",
   "execution_count": 221,
   "metadata": {},
   "outputs": [],
   "source": []
  },
  {
   "cell_type": "code",
   "execution_count": 222,
   "metadata": {},
   "outputs": [
    {
     "data": {
      "text/plain": [
       "array([0, 0, 0, ..., 1, 0, 1])"
      ]
     },
     "execution_count": 222,
     "metadata": {},
     "output_type": "execute_result"
    }
   ],
   "source": [
    "y = "
   ]
  },
  {
   "cell_type": "markdown",
   "metadata": {},
   "source": [
    "#### 2. Split the data into a training (70% of data) and testing (30% data) sets"
   ]
  },
  {
   "cell_type": "code",
   "execution_count": null,
   "metadata": {},
   "outputs": [],
   "source": [
    "from sklearn.model_selection import train_test_split"
   ]
  },
  {
   "cell_type": "code",
   "execution_count": null,
   "metadata": {},
   "outputs": [],
   "source": []
  },
  {
   "cell_type": "code",
   "execution_count": null,
   "metadata": {},
   "outputs": [],
   "source": [
    "print(f\"Original feature matrix X has {X.shape[0]} observations and {X.shape[1]} features\")\n",
    "print(f\"Training feature matrix X has {X_train.shape[0]} observations and {X_train.shape[1]} features\")\n",
    "print(f\"Testing feature matrix X has {X_test.shape[0]} observations and {X_test.shape[1]} features\")"
   ]
  },
  {
   "cell_type": "code",
   "execution_count": null,
   "metadata": {},
   "outputs": [],
   "source": [
    "print(f\"Original label vector y has {y.shape[0]} labels\")\n",
    "print(f\"Training label vector y has {y_train.shape[0]} labels\")\n",
    "print(f\"Testing label vector y has {y_test.shape[0]} labels\")"
   ]
  },
  {
   "cell_type": "markdown",
   "metadata": {},
   "source": [
    "#### 3. Fit the model on the training data to estimate the model parameters"
   ]
  },
  {
   "cell_type": "code",
   "execution_count": null,
   "metadata": {},
   "outputs": [],
   "source": [
    "from sklearn.linear_model import LogisticRegression"
   ]
  },
  {
   "cell_type": "code",
   "execution_count": null,
   "metadata": {},
   "outputs": [],
   "source": []
  },
  {
   "cell_type": "code",
   "execution_count": null,
   "metadata": {},
   "outputs": [],
   "source": []
  },
  {
   "cell_type": "markdown",
   "metadata": {},
   "source": [
    "#### 4. Predict the label and compare the predictions with the ground truth to obtain a performance score"
   ]
  },
  {
   "cell_type": "code",
   "execution_count": null,
   "metadata": {},
   "outputs": [],
   "source": [
    "from sklearn.metrics import accuracy_score, confusion_matrix, ConfusionMatrixDisplay"
   ]
  },
  {
   "cell_type": "markdown",
   "metadata": {},
   "source": [
    "##### Performance on training"
   ]
  },
  {
   "cell_type": "code",
   "execution_count": null,
   "metadata": {},
   "outputs": [],
   "source": [
    "# Get predictions on training data"
   ]
  },
  {
   "cell_type": "code",
   "execution_count": null,
   "metadata": {},
   "outputs": [],
   "source": [
    "# Get the confusion matrix"
   ]
  },
  {
   "cell_type": "code",
   "execution_count": null,
   "metadata": {},
   "outputs": [],
   "source": [
    "ConfusionMatrixDisplay.from_estimator(lr, X_train, y_train, display_labels=label_encoder.classes_);"
   ]
  },
  {
   "cell_type": "code",
   "execution_count": null,
   "metadata": {},
   "outputs": [],
   "source": [
    "ConfusionMatrixDisplay.from_estimator(lr, X_train, y_train, display_labels=label_encoder.classes_,\n",
    "                                      normalize='true');"
   ]
  },
  {
   "cell_type": "code",
   "execution_count": null,
   "metadata": {},
   "outputs": [],
   "source": [
    "accuracy_score(y_train, y_pred_train)"
   ]
  },
  {
   "cell_type": "markdown",
   "metadata": {},
   "source": [
    "##### Performance on testing"
   ]
  },
  {
   "cell_type": "code",
   "execution_count": null,
   "metadata": {},
   "outputs": [],
   "source": [
    "ConfusionMatrixDisplay.from_estimator(lr, X_test, y_test, display_labels=label_encoder.classes_,\n",
    "                                      normalize='true');"
   ]
  },
  {
   "cell_type": "code",
   "execution_count": null,
   "metadata": {},
   "outputs": [],
   "source": [
    "y_pred_test = lr.predict(X_test)"
   ]
  },
  {
   "cell_type": "code",
   "execution_count": null,
   "metadata": {},
   "outputs": [],
   "source": [
    "accuracy_score(y_test, y_pred_test)"
   ]
  },
  {
   "cell_type": "code",
   "execution_count": null,
   "metadata": {},
   "outputs": [],
   "source": [
    "lr.coef_[0]"
   ]
  },
  {
   "cell_type": "code",
   "execution_count": null,
   "metadata": {},
   "outputs": [],
   "source": [
    "lm_coefs_df = pd.DataFrame({'coefs': np.std(X_train, 0)*lr.coef_[0]},\n",
    "                           index=X.columns)\n",
    "plt.figure(figsize=(6,6))\n",
    "sns.barplot(x='coefs', y=lm_coefs_df.index, data=lm_coefs_df);"
   ]
  },
  {
   "cell_type": "markdown",
   "metadata": {},
   "source": [
    "### Make the workflow a bit more interesting"
   ]
  },
  {
   "cell_type": "markdown",
   "metadata": {},
   "source": [
    "1. Convert `string` label (`good`, `bad`) into numeric data  \n",
    "2. Split the data into a training set (90% of data) and **an hold out testing (10% data) for final evaluation**\n",
    "3. **Iterate on the training data split into folds**, leaving one fold out for testing, and combining remaining fold for training\n",
    "4. **At each iteration** fit a model on the training data to estimate the model parameters \n",
    "5. Predict the label (wine quality) of the test data **in the left out fold**\n",
    "6. Compare the predictions with the ground truth to obtain a performance score **in the left out fold**\n",
    "7. Fit the model on the whole training data, and test it on the hold out test set"
   ]
  },
  {
   "cell_type": "code",
   "execution_count": null,
   "metadata": {},
   "outputs": [],
   "source": [
    "train_test_split?"
   ]
  },
  {
   "cell_type": "markdown",
   "metadata": {},
   "source": [
    "#### Split the data into a training set (90% of data) and **an hold out testing (10% data) for final evaluation**"
   ]
  },
  {
   "cell_type": "code",
   "execution_count": 223,
   "metadata": {},
   "outputs": [],
   "source": [
    "from sklearn.model_selection import train_test_split, StratifiedKFold\n",
    "X_cv, X_final_test, y_cv, y_final_test = train_test_split(X, y, test_size=0.1, \n",
    "                                                          stratify=y, random_state=42)"
   ]
  },
  {
   "cell_type": "markdown",
   "metadata": {},
   "source": [
    "#### Iterate on the training data split into folds"
   ]
  },
  {
   "cell_type": "code",
   "execution_count": 224,
   "metadata": {},
   "outputs": [],
   "source": [
    "n_folds = 10\n",
    "# Save accuracy performance\n",
    "accuracy_perf = {'train': np.zeros(n_folds),\n",
    "                 'test': np.zeros(n_folds)}\n",
    "# Save model parameters at each iteration\n",
    "lr_params = np.zeros((n_folds, len(X_cv.columns)))\n",
    "skf = StratifiedKFold(n_splits=n_folds, shuffle=True, random_state=42)\n",
    "# Iterate over each set of folds\n",
    "for i_fold, (train_ix, test_ix) in enumerate(skf.split(X_cv, y_cv)):\n",
    "    # test_ix is for our left out fold, and train_ix is from combining all other folds\n",
    "    X_train, y_train = X_cv.iloc[train_ix], y_cv[train_ix]\n",
    "    X_test, y_test = X_cv.iloc[test_ix], y_cv[test_ix]\n",
    "    lr = LogisticRegression(penalty='none', max_iter=10000, class_weight='balanced')\n",
    "    lr.fit(X_train, y_train)\n",
    "    # Get performance on training and test set (test set = left out fold)\n",
    "    accuracy_perf['train'][i_fold] = accuracy_score(y_train, lr.predict(X_train))\n",
    "    accuracy_perf['test'][i_fold] = accuracy_score(y_test, lr.predict(X_test))\n",
    "    # Get model parameters\n",
    "    lr_params[i_fold, :] = np.std(X_train, 0)*lr.coef_[0]"
   ]
  },
  {
   "cell_type": "code",
   "execution_count": null,
   "metadata": {},
   "outputs": [],
   "source": [
    "plt.figure(figsize=(10, 2))\n",
    "pd.DataFrame(accuracy_perf).boxplot(vert=False);\n",
    "plt.xlim(0, 1);"
   ]
  },
  {
   "cell_type": "code",
   "execution_count": null,
   "metadata": {},
   "outputs": [],
   "source": [
    "plt.figure(figsize=(10, 4))\n",
    "pd.DataFrame(lr_params, columns=X_cv.columns).boxplot(vert=False);"
   ]
  },
  {
   "cell_type": "code",
   "execution_count": null,
   "metadata": {},
   "outputs": [],
   "source": [
    "sns.heatmap(X.corr(), cmap=\"Spectral\", vmin=-1, vmax=1);"
   ]
  },
  {
   "cell_type": "markdown",
   "metadata": {},
   "source": [
    "#### Fit the model on the whole training data, and test it on the hold out test set"
   ]
  },
  {
   "cell_type": "code",
   "execution_count": 228,
   "metadata": {},
   "outputs": [
    {
     "name": "stdout",
     "output_type": "stream",
     "text": [
      "Training accuracy: 0.744266851980542\n",
      "Hold out dataset test accuracy: 0.76875\n"
     ]
    }
   ],
   "source": [
    "lr = LogisticRegression(penalty='none', max_iter=10000, class_weight='balanced')\n",
    "lr.fit(X_cv, y_cv)\n",
    "print(f\"Training accuracy: {accuracy_score(y_cv, lr.predict(X_cv))}\")\n",
    "print(f\"Hold out dataset test accuracy: {accuracy_score(y_final_test, lr.predict(X_final_test))}\")"
   ]
  },
  {
   "cell_type": "markdown",
   "metadata": {},
   "source": [
    "### Make the workflow even more interesting"
   ]
  },
  {
   "cell_type": "markdown",
   "metadata": {},
   "source": [
    "1. Convert `string` label (`good`, `bad`) into numeric data\n",
    "2. **Add interaction terms to prevent under-fitting**\n",
    "3. Split the data into a training set (90% of data) and an hold out testing (10% data) for final evaluation\n",
    "4. Iterate on data split into folds, leaving one fold out for testing, and combining remaining fold for training\n",
    "5. At each iteration use a logistic regression **with ridge penalty (i.e. l2 norm) and optimize the regularization hyper-parameter `C`**:\n",
    "    1. **Standardize the features**\n",
    "    2. **Create an inner cross-validation loop to find the best `C`**\n",
    "    **BONUS: use a `Pipeline` object**\n",
    "6. Predict the label (wine quality) of the test data in the left out fold\n",
    "7. Compare the predictions with the ground truth to obtain a performance score in the left out fold"
   ]
  },
  {
   "cell_type": "markdown",
   "metadata": {},
   "source": [
    "#### Add interaction terms to prevent under-fitting"
   ]
  },
  {
   "cell_type": "code",
   "execution_count": 229,
   "metadata": {},
   "outputs": [],
   "source": [
    "from sklearn.preprocessing import PolynomialFeatures"
   ]
  },
  {
   "cell_type": "code",
   "execution_count": 230,
   "metadata": {},
   "outputs": [],
   "source": [
    "add_interactions = PolynomialFeatures(interaction_only=True, include_bias=False)\n",
    "X_ir = add_interactions.fit_transform(X)"
   ]
  },
  {
   "cell_type": "markdown",
   "metadata": {},
   "source": [
    "#### Split the data into a training set (90% of data) and **an hold out testing (10% data) for final evaluation**"
   ]
  },
  {
   "cell_type": "code",
   "execution_count": 231,
   "metadata": {},
   "outputs": [],
   "source": [
    "from sklearn.model_selection import train_test_split\n",
    "X_ir_cv, X_ir_final_test, y_cv, y_final_test = train_test_split(X_ir, y, test_size=0.1, \n",
    "                                                          stratify=y, random_state=42)"
   ]
  },
  {
   "cell_type": "markdown",
   "metadata": {},
   "source": [
    "#### At each iteration use a logistic regression with ridge penalty (i.e. l2 norm) and optimize the regularization hyper-parameter `C`"
   ]
  },
  {
   "cell_type": "code",
   "execution_count": 232,
   "metadata": {},
   "outputs": [],
   "source": [
    "from sklearn.pipeline import Pipeline\n",
    "from sklearn.preprocessing import StandardScaler\n",
    "from sklearn.model_selection import GridSearchCV"
   ]
  },
  {
   "cell_type": "markdown",
   "metadata": {},
   "source": [
    "##### The following cell will take a very long time to run, don't run as is if you do not have the required computer power. Instead change the grid search to have only a very small parameter search space"
   ]
  },
  {
   "cell_type": "code",
   "execution_count": 233,
   "metadata": {},
   "outputs": [],
   "source": [
    "# Note: better to update with column transformer\n",
    "#     preprocessor = make_column_transformer(\n",
    "#         (StandardScaler(), num_cols_to_scale),\n",
    "#          remainder='passthrough'\n",
    "#     )\n",
    "#     # Defining pipeline with both processing and model fitting\n",
    "#     lm_pipeline = make_pipeline(\n",
    "#         preprocessor,\n",
    "#         LogisticRegression()"
   ]
  },
  {
   "cell_type": "code",
   "execution_count": 234,
   "metadata": {},
   "outputs": [],
   "source": [
    "n_cpus=12\n",
    "n_folds = 10\n",
    "# Save accuracy performance and hyper parameter values selected in inner CV\n",
    "accuracy_perf = {'train': np.zeros(n_folds),\n",
    "                 'test': np.zeros(n_folds)}\n",
    "best_hyperparams = {'C': [],\n",
    "                    'l1_ratio': []}\n",
    "# Save model parameters at each iteration\n",
    "lr_params = []\n",
    "skf = StratifiedKFold(n_splits=n_folds, shuffle=True, random_state=42)\n",
    "# Iterate over each set of folds\n",
    "for i_fold, (train_ix, test_ix) in enumerate(skf.split(X_ir_cv, y_cv)):\n",
    "    # test_ix is for our left out fold, and train_ix is from combining all other folds\n",
    "    X_ir_train, X_ir_test = X_ir_cv[train_ix], X_ir_cv[test_ix]\n",
    "    y_train, y_test = y_cv[train_ix], y_cv[test_ix]\n",
    "    # Define pipeline adding scaling step before logistic regression model fitting\n",
    "    lr_pipeline = Pipeline(\n",
    "        [('scaler', StandardScaler()),\n",
    "         ('lr', LogisticRegression(penalty='elasticnet', solver='saga',\n",
    "                                   max_iter=10000, class_weight='balanced'))]\n",
    "    )\n",
    "    # Define the grid search using the previously given names with \"dudder\" __\n",
    "    grid_search = GridSearchCV(lr_pipeline, n_jobs=n_cpus,\n",
    "                               param_grid={'lr__C': [0.1, 0.5, 1.0, 5.0, 10, 50, 100],\n",
    "                                           'lr__l1_ratio': np.linspace(0, 1, 11)})\n",
    "    # Fit as before, but use the grid search object\n",
    "    grid_search.fit(X_ir_train, y_train)\n",
    "    # Get performance on training and test set (test set = left out fold)\n",
    "    best_hyperparams['C'].append(grid_search.best_params_['lr__C'])\n",
    "    best_hyperparams['l1_ratio'].append(grid_search.best_params_['lr__l1_ratio'])\n",
    "    best_lr = grid_search.best_estimator_\n",
    "    accuracy_perf['train'][i_fold] = accuracy_score(y_train, best_lr.predict(X_ir_train))\n",
    "    accuracy_perf['test'][i_fold] = accuracy_score(y_test, best_lr.predict(X_ir_test))\n",
    "    # Get model parameters\n",
    "    lr_params.append(best_lr['lr'].coef_[0])\n",
    "lr_params_df = pd.DataFrame(lr_params, columns=add_interactions.get_feature_names_out(X.columns))"
   ]
  },
  {
   "cell_type": "code",
   "execution_count": 235,
   "metadata": {},
   "outputs": [
    {
     "data": {
      "text/plain": [
       "array([0. , 0.1, 0.2, 0.3, 0.4, 0.5, 0.6, 0.7, 0.8, 0.9, 1. ])"
      ]
     },
     "execution_count": 235,
     "metadata": {},
     "output_type": "execute_result"
    }
   ],
   "source": [
    "np.linspace(0, 1, 11)"
   ]
  },
  {
   "cell_type": "code",
   "execution_count": 236,
   "metadata": {},
   "outputs": [
    {
     "data": {
      "text/plain": [
       "{'C': [0.5, 0.1, 10, 100, 5.0, 1.0, 0.5, 0.1, 5.0, 1.0],\n",
       " 'l1_ratio': [0.8,\n",
       "  0.5,\n",
       "  0.2,\n",
       "  0.0,\n",
       "  0.0,\n",
       "  0.9,\n",
       "  1.0,\n",
       "  0.2,\n",
       "  0.30000000000000004,\n",
       "  0.1]}"
      ]
     },
     "execution_count": 236,
     "metadata": {},
     "output_type": "execute_result"
    }
   ],
   "source": [
    "best_hyperparams"
   ]
  },
  {
   "cell_type": "code",
   "execution_count": 237,
   "metadata": {},
   "outputs": [
    {
     "data": {
      "text/plain": [
       "{'train': array([0.76138996, 0.74440154, 0.77374517, 0.76833977, 0.76756757,\n",
       "        0.75907336, 0.75057915, 0.74826255, 0.76679537, 0.77623457]),\n",
       " 'test': array([0.73611111, 0.75      , 0.72222222, 0.74305556, 0.75694444,\n",
       "        0.75      , 0.83333333, 0.75      , 0.72916667, 0.68531469])}"
      ]
     },
     "execution_count": 237,
     "metadata": {},
     "output_type": "execute_result"
    }
   ],
   "source": [
    "accuracy_perf"
   ]
  },
  {
   "cell_type": "code",
   "execution_count": 238,
   "metadata": {},
   "outputs": [
    {
     "data": {
      "image/png": "[encoded data removed]",
      "text/plain": [
       "<Figure size 720x144 with 1 Axes>"
      ]
     },
     "metadata": {
      "needs_background": "light"
     },
     "output_type": "display_data"
    }
   ],
   "source": [
    "plt.figure(figsize=(10, 2))\n",
    "pd.DataFrame(accuracy_perf).boxplot(vert=False);\n",
    "plt.xlim(0, 1);"
   ]
  },
  {
   "cell_type": "code",
   "execution_count": 239,
   "metadata": {},
   "outputs": [
    {
     "data": {
      "image/png": "[encoded data removed]",
      "text/plain": [
       "<Figure size 720x1152 with 1 Axes>"
      ]
     },
     "metadata": {
      "needs_background": "light"
     },
     "output_type": "display_data"
    }
   ],
   "source": [
    "plt.figure(figsize=(10, 16))\n",
    "lr_params_df.boxplot(vert=False);"
   ]
  },
  {
   "cell_type": "markdown",
   "metadata": {},
   "source": [
    "#### Fit the model on the whole training data, and test it on the hold out test set"
   ]
  },
  {
   "cell_type": "code",
   "execution_count": 240,
   "metadata": {},
   "outputs": [
    {
     "name": "stdout",
     "output_type": "stream",
     "text": [
      "Training accuracy: 0.7671994440583739\n",
      "Hold out dataset test accuracy: 0.7375\n"
     ]
    }
   ],
   "source": [
    "lr_pipeline = Pipeline(\n",
    "    [('scaler', StandardScaler()),\n",
    "     ('lr', LogisticRegression(penalty='elasticnet', solver='saga', max_iter=10000,\n",
    "                               C=1, l1_ratio=0.1, class_weight='balanced'))]\n",
    ")\n",
    "lr_pipeline.fit(X_ir_cv, y_cv)\n",
    "print(f\"Training accuracy: {accuracy_score(y_cv, lr_pipeline.predict(X_ir_cv))}\")\n",
    "print(f\"Hold out dataset test accuracy: {accuracy_score(y_final_test, lr_pipeline.predict(X_ir_final_test))}\")"
   ]
  },
  {
   "cell_type": "code",
   "execution_count": null,
   "metadata": {},
   "outputs": [],
   "source": []
  }
 ],
 "metadata": {
  "kernelspec": {
   "display_name": "Python [conda env:ds310]",
   "language": "python",
   "name": "conda-env-ds310-py"
  },
  "language_info": {
   "codemirror_mode": {
    "name": "ipython",
    "version": 3
   },
   "file_extension": ".py",
   "mimetype": "text/x-python",
   "name": "python",
   "nbconvert_exporter": "python",
   "pygments_lexer": "ipython3",
   "version": "3.10.8"
  }
 },
 "nbformat": 4,
 "nbformat_minor": 4
}
